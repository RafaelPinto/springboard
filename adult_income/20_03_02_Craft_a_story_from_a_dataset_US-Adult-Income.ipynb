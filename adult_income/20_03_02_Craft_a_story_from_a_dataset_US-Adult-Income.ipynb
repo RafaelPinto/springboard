{
 "cells": [
  {
   "cell_type": "markdown",
   "metadata": {},
   "source": [
    "# Motivation\n",
    "\n",
    "Historically, the United States has been a destination for immigrants from all over the world. There are many reasons for this, but above all prosperity seems to be the common draw that most seek as a prize to call this land home.\n",
    "\n",
    "I've always wondered if being an immigrant determined the potential personal income in this country. Are immigrants destined to earn less than their local counterparts? or having a foreign heritage positively influences the pay scale?\n",
    "\n",
    "In this work, I explore The Adult dataset, originally provided by the US Census Bureau, and now hosted on the [UCI machine learning repository](http://www.cs.toronto.edu/~delve/data/adult/adultDetail.html). These data is result of the annual income survey conducted in 1994."
   ]
  },
  {
   "cell_type": "code",
   "execution_count": 1,
   "metadata": {
    "ExecuteTime": {
     "end_time": "2020-12-12T17:21:13.323235Z",
     "start_time": "2020-12-12T17:21:12.491905Z"
    }
   },
   "outputs": [],
   "source": [
    "from pathlib import Path\n",
    "\n",
    "import numpy as np\n",
    "import pandas as pd\n",
    "\n",
    "import matplotlib.pyplot as plt\n",
    "import seaborn as sns"
   ]
  },
  {
   "cell_type": "code",
   "execution_count": 2,
   "metadata": {
    "ExecuteTime": {
     "end_time": "2020-12-12T17:21:13.327994Z",
     "start_time": "2020-12-12T17:21:13.325110Z"
    }
   },
   "outputs": [],
   "source": [
    "sns.set_context(\"poster\")"
   ]
  },
  {
   "cell_type": "code",
   "execution_count": 3,
   "metadata": {
    "ExecuteTime": {
     "end_time": "2020-12-12T17:21:13.333417Z",
     "start_time": "2020-12-12T17:21:13.330642Z"
    }
   },
   "outputs": [],
   "source": [
    "data_fn = Path('../data/adult.csv')"
   ]
  },
  {
   "cell_type": "code",
   "execution_count": 4,
   "metadata": {
    "ExecuteTime": {
     "end_time": "2020-12-12T17:21:13.347092Z",
     "start_time": "2020-12-12T17:21:13.335522Z"
    }
   },
   "outputs": [],
   "source": [
    "assert data_fn.is_file()"
   ]
  },
  {
   "cell_type": "code",
   "execution_count": 5,
   "metadata": {
    "ExecuteTime": {
     "end_time": "2020-12-12T17:21:13.444913Z",
     "start_time": "2020-12-12T17:21:13.349017Z"
    }
   },
   "outputs": [],
   "source": [
    "df = pd.read_csv(data_fn)"
   ]
  },
  {
   "cell_type": "code",
   "execution_count": 6,
   "metadata": {
    "ExecuteTime": {
     "end_time": "2020-12-12T17:21:13.451209Z",
     "start_time": "2020-12-12T17:21:13.446368Z"
    }
   },
   "outputs": [
    {
     "data": {
      "text/plain": [
       "(48842, 15)"
      ]
     },
     "execution_count": 6,
     "metadata": {},
     "output_type": "execute_result"
    }
   ],
   "source": [
    "df.shape"
   ]
  },
  {
   "cell_type": "code",
   "execution_count": 7,
   "metadata": {
    "ExecuteTime": {
     "end_time": "2020-12-12T17:21:13.476950Z",
     "start_time": "2020-12-12T17:21:13.453279Z"
    }
   },
   "outputs": [
    {
     "data": {
      "text/html": [
       "<div>\n",
       "<style scoped>\n",
       "    .dataframe tbody tr th:only-of-type {\n",
       "        vertical-align: middle;\n",
       "    }\n",
       "\n",
       "    .dataframe tbody tr th {\n",
       "        vertical-align: top;\n",
       "    }\n",
       "\n",
       "    .dataframe thead th {\n",
       "        text-align: right;\n",
       "    }\n",
       "</style>\n",
       "<table border=\"1\" class=\"dataframe\">\n",
       "  <thead>\n",
       "    <tr style=\"text-align: right;\">\n",
       "      <th></th>\n",
       "      <th>age</th>\n",
       "      <th>workclass</th>\n",
       "      <th>fnlwgt</th>\n",
       "      <th>education</th>\n",
       "      <th>educational-num</th>\n",
       "      <th>marital-status</th>\n",
       "      <th>occupation</th>\n",
       "      <th>relationship</th>\n",
       "      <th>race</th>\n",
       "      <th>gender</th>\n",
       "      <th>capital-gain</th>\n",
       "      <th>capital-loss</th>\n",
       "      <th>hours-per-week</th>\n",
       "      <th>native-country</th>\n",
       "      <th>income</th>\n",
       "    </tr>\n",
       "  </thead>\n",
       "  <tbody>\n",
       "    <tr>\n",
       "      <th>0</th>\n",
       "      <td>25</td>\n",
       "      <td>Private</td>\n",
       "      <td>226802</td>\n",
       "      <td>11th</td>\n",
       "      <td>7</td>\n",
       "      <td>Never-married</td>\n",
       "      <td>Machine-op-inspct</td>\n",
       "      <td>Own-child</td>\n",
       "      <td>Black</td>\n",
       "      <td>Male</td>\n",
       "      <td>0</td>\n",
       "      <td>0</td>\n",
       "      <td>40</td>\n",
       "      <td>United-States</td>\n",
       "      <td>&lt;=50K</td>\n",
       "    </tr>\n",
       "    <tr>\n",
       "      <th>1</th>\n",
       "      <td>38</td>\n",
       "      <td>Private</td>\n",
       "      <td>89814</td>\n",
       "      <td>HS-grad</td>\n",
       "      <td>9</td>\n",
       "      <td>Married-civ-spouse</td>\n",
       "      <td>Farming-fishing</td>\n",
       "      <td>Husband</td>\n",
       "      <td>White</td>\n",
       "      <td>Male</td>\n",
       "      <td>0</td>\n",
       "      <td>0</td>\n",
       "      <td>50</td>\n",
       "      <td>United-States</td>\n",
       "      <td>&lt;=50K</td>\n",
       "    </tr>\n",
       "    <tr>\n",
       "      <th>2</th>\n",
       "      <td>28</td>\n",
       "      <td>Local-gov</td>\n",
       "      <td>336951</td>\n",
       "      <td>Assoc-acdm</td>\n",
       "      <td>12</td>\n",
       "      <td>Married-civ-spouse</td>\n",
       "      <td>Protective-serv</td>\n",
       "      <td>Husband</td>\n",
       "      <td>White</td>\n",
       "      <td>Male</td>\n",
       "      <td>0</td>\n",
       "      <td>0</td>\n",
       "      <td>40</td>\n",
       "      <td>United-States</td>\n",
       "      <td>&gt;50K</td>\n",
       "    </tr>\n",
       "    <tr>\n",
       "      <th>3</th>\n",
       "      <td>44</td>\n",
       "      <td>Private</td>\n",
       "      <td>160323</td>\n",
       "      <td>Some-college</td>\n",
       "      <td>10</td>\n",
       "      <td>Married-civ-spouse</td>\n",
       "      <td>Machine-op-inspct</td>\n",
       "      <td>Husband</td>\n",
       "      <td>Black</td>\n",
       "      <td>Male</td>\n",
       "      <td>7688</td>\n",
       "      <td>0</td>\n",
       "      <td>40</td>\n",
       "      <td>United-States</td>\n",
       "      <td>&gt;50K</td>\n",
       "    </tr>\n",
       "    <tr>\n",
       "      <th>4</th>\n",
       "      <td>18</td>\n",
       "      <td>?</td>\n",
       "      <td>103497</td>\n",
       "      <td>Some-college</td>\n",
       "      <td>10</td>\n",
       "      <td>Never-married</td>\n",
       "      <td>?</td>\n",
       "      <td>Own-child</td>\n",
       "      <td>White</td>\n",
       "      <td>Female</td>\n",
       "      <td>0</td>\n",
       "      <td>0</td>\n",
       "      <td>30</td>\n",
       "      <td>United-States</td>\n",
       "      <td>&lt;=50K</td>\n",
       "    </tr>\n",
       "  </tbody>\n",
       "</table>\n",
       "</div>"
      ],
      "text/plain": [
       "   age  workclass  fnlwgt     education  educational-num      marital-status  \\\n",
       "0   25    Private  226802          11th                7       Never-married   \n",
       "1   38    Private   89814       HS-grad                9  Married-civ-spouse   \n",
       "2   28  Local-gov  336951    Assoc-acdm               12  Married-civ-spouse   \n",
       "3   44    Private  160323  Some-college               10  Married-civ-spouse   \n",
       "4   18          ?  103497  Some-college               10       Never-married   \n",
       "\n",
       "          occupation relationship   race  gender  capital-gain  capital-loss  \\\n",
       "0  Machine-op-inspct    Own-child  Black    Male             0             0   \n",
       "1    Farming-fishing      Husband  White    Male             0             0   \n",
       "2    Protective-serv      Husband  White    Male             0             0   \n",
       "3  Machine-op-inspct      Husband  Black    Male          7688             0   \n",
       "4                  ?    Own-child  White  Female             0             0   \n",
       "\n",
       "   hours-per-week native-country income  \n",
       "0              40  United-States  <=50K  \n",
       "1              50  United-States  <=50K  \n",
       "2              40  United-States   >50K  \n",
       "3              40  United-States   >50K  \n",
       "4              30  United-States  <=50K  "
      ]
     },
     "execution_count": 7,
     "metadata": {},
     "output_type": "execute_result"
    }
   ],
   "source": [
    "df.head()"
   ]
  },
  {
   "cell_type": "markdown",
   "metadata": {},
   "source": [
    "# Data description\n",
    "\n",
    "There are 48842 samples on this data, with 15 columns:\n",
    "\n",
    "1. age: continuous.\n",
    "2. workclass: Private, Self-emp-not-inc, Self-emp-inc, Federal-gov, Local-gov, State-gov, Without-pay, Never-worked.\n",
    "3. fnlwgt: continuous.\n",
    "4. education: Bachelors, Some-college, 11th, HS-grad, Prof-school, Assoc-acdm, Assoc-voc, 9th, 7th-8th, 12th, Masters, 1st-4th, 10th, Doctorate, 5th-6th, Preschool.\n",
    "5. education-num: continuous.\n",
    "6. marital-status: Married-civ-spouse, Divorced, Never-married, Separated, Widowed, Married-spouse-absent, Married-AF-spouse.\n",
    "7. occupation: Tech-support, Craft-repair, Other-service, Sales, Exec-managerial, Prof-specialty, Handlers-cleaners, Machine-op-inspct, Adm-clerical, Farming-fishing, Transport-moving, Priv-house-serv, Protective-serv, Armed-Forces.\n",
    "8. relationship: Wife, Own-child, Husband, Not-in-family, Other-relative, Unmarried.\n",
    "9. race: White, Asian-Pac-Islander, Amer-Indian-Eskimo, Other, Black.\n",
    "10. sex: Female, Male.\n",
    "11. capital-gain: continuous.\n",
    "12. capital-loss: continuous.\n",
    "13. hours-per-week: continuous.\n",
    "14. native-country: United-States, Cambodia, England, Puerto-Rico, Canada, Germany, Outlying-US(Guam-USVI-etc), India, Japan, Greece, South, China, Cuba, Iran, Honduras, Philippines, Italy, Poland, Jamaica, Vietnam, Mexico, Portugal, Ireland, France, Dominican-Republic, Laos, Ecuador, Taiwan, Haiti, Columbia, Hungary, Guatemala, Nicaragua, Scotland, Thailand, Yugoslavia, El-Salvador, Trinadad&Tobago, Peru, Hong, Holand-Netherlands.\n",
    "15. class: >50K, <=50K\n",
    "\n",
    "It is unfortunate that the target column (`class`) has been binned for income values delimited by $50K. This prevents understanding the exact distribution of income, yet we can still test if the proportion of immigrants (column `native-country`) is different in each income class.\n",
    "\n",
    "Let's first check for missing values on the `native-country` column."
   ]
  },
  {
   "cell_type": "code",
   "execution_count": 8,
   "metadata": {
    "ExecuteTime": {
     "end_time": "2020-12-12T17:21:13.502239Z",
     "start_time": "2020-12-12T17:21:13.480963Z"
    }
   },
   "outputs": [
    {
     "data": {
      "text/plain": [
       "United-States                 0.897424\n",
       "Mexico                        0.019471\n",
       "?                             0.017546\n",
       "Philippines                   0.006040\n",
       "Germany                       0.004218\n",
       "Puerto-Rico                   0.003767\n",
       "Canada                        0.003726\n",
       "El-Salvador                   0.003173\n",
       "India                         0.003092\n",
       "Cuba                          0.002825\n",
       "England                       0.002600\n",
       "China                         0.002498\n",
       "South                         0.002355\n",
       "Jamaica                       0.002170\n",
       "Italy                         0.002150\n",
       "Dominican-Republic            0.002109\n",
       "Japan                         0.001884\n",
       "Guatemala                     0.001802\n",
       "Poland                        0.001781\n",
       "Vietnam                       0.001761\n",
       "Columbia                      0.001740\n",
       "Haiti                         0.001536\n",
       "Portugal                      0.001372\n",
       "Taiwan                        0.001331\n",
       "Iran                          0.001208\n",
       "Greece                        0.001003\n",
       "Nicaragua                     0.001003\n",
       "Peru                          0.000942\n",
       "Ecuador                       0.000921\n",
       "France                        0.000778\n",
       "Ireland                       0.000758\n",
       "Hong                          0.000614\n",
       "Thailand                      0.000614\n",
       "Cambodia                      0.000573\n",
       "Trinadad&Tobago               0.000553\n",
       "Laos                          0.000471\n",
       "Yugoslavia                    0.000471\n",
       "Outlying-US(Guam-USVI-etc)    0.000471\n",
       "Scotland                      0.000430\n",
       "Honduras                      0.000409\n",
       "Hungary                       0.000389\n",
       "Holand-Netherlands            0.000020\n",
       "Name: native-country, dtype: float64"
      ]
     },
     "execution_count": 8,
     "metadata": {},
     "output_type": "execute_result"
    }
   ],
   "source": [
    "df['native-country'].value_counts(normalize=True, dropna=False)"
   ]
  },
  {
   "cell_type": "markdown",
   "metadata": {},
   "source": [
    "There are a few (1.9%) samples missing this feature. Lets drop them."
   ]
  },
  {
   "cell_type": "code",
   "execution_count": 9,
   "metadata": {
    "ExecuteTime": {
     "end_time": "2020-12-12T17:21:13.516816Z",
     "start_time": "2020-12-12T17:21:13.504418Z"
    }
   },
   "outputs": [],
   "source": [
    "cond0 = df['native-country'] != '?'\n",
    "df = df.loc[cond0, :]"
   ]
  },
  {
   "cell_type": "code",
   "execution_count": 10,
   "metadata": {
    "ExecuteTime": {
     "end_time": "2020-12-12T17:21:13.546714Z",
     "start_time": "2020-12-12T17:21:13.523225Z"
    }
   },
   "outputs": [
    {
     "data": {
      "text/plain": [
       "United-States    0.913452\n",
       "Mexico           0.019819\n",
       "Philippines      0.006148\n",
       "Germany          0.004293\n",
       "Puerto-Rico      0.003835\n",
       "Name: native-country, dtype: float64"
      ]
     },
     "execution_count": 10,
     "metadata": {},
     "output_type": "execute_result"
    }
   ],
   "source": [
    "df['native-country'].value_counts(normalize=True, dropna=False).head()"
   ]
  },
  {
   "cell_type": "markdown",
   "metadata": {},
   "source": [
    "Next, let's define a new column to determine if the worker is an immigrant."
   ]
  },
  {
   "cell_type": "code",
   "execution_count": 11,
   "metadata": {
    "ExecuteTime": {
     "end_time": "2020-12-12T17:21:13.565115Z",
     "start_time": "2020-12-12T17:21:13.548834Z"
    }
   },
   "outputs": [],
   "source": [
    "df['immigrant'] = ~df['native-country'].isin(['United-States', 'Outlying-US(Guam-USVI-etc)']) "
   ]
  },
  {
   "cell_type": "code",
   "execution_count": 12,
   "metadata": {
    "ExecuteTime": {
     "end_time": "2020-12-12T17:21:13.579500Z",
     "start_time": "2020-12-12T17:21:13.569637Z"
    }
   },
   "outputs": [
    {
     "data": {
      "text/plain": [
       "False    0.913931\n",
       "True     0.086069\n",
       "Name: immigrant, dtype: float64"
      ]
     },
     "execution_count": 12,
     "metadata": {},
     "output_type": "execute_result"
    }
   ],
   "source": [
    "df['immigrant'].value_counts(normalize=True, dropna=False)"
   ]
  },
  {
   "cell_type": "code",
   "execution_count": 13,
   "metadata": {
    "ExecuteTime": {
     "end_time": "2020-12-12T17:21:13.683579Z",
     "start_time": "2020-12-12T17:21:13.581770Z"
    }
   },
   "outputs": [
    {
     "data": {
      "text/html": [
       "<div>\n",
       "<style scoped>\n",
       "    .dataframe tbody tr th:only-of-type {\n",
       "        vertical-align: middle;\n",
       "    }\n",
       "\n",
       "    .dataframe tbody tr th {\n",
       "        vertical-align: top;\n",
       "    }\n",
       "\n",
       "    .dataframe thead th {\n",
       "        text-align: right;\n",
       "    }\n",
       "</style>\n",
       "<table border=\"1\" class=\"dataframe\">\n",
       "  <thead>\n",
       "    <tr style=\"text-align: right;\">\n",
       "      <th></th>\n",
       "      <th>age</th>\n",
       "      <th>workclass</th>\n",
       "      <th>fnlwgt</th>\n",
       "      <th>education</th>\n",
       "      <th>educational-num</th>\n",
       "      <th>marital-status</th>\n",
       "      <th>occupation</th>\n",
       "      <th>relationship</th>\n",
       "      <th>race</th>\n",
       "      <th>gender</th>\n",
       "      <th>capital-gain</th>\n",
       "      <th>capital-loss</th>\n",
       "      <th>hours-per-week</th>\n",
       "      <th>native-country</th>\n",
       "      <th>income</th>\n",
       "      <th>immigrant</th>\n",
       "    </tr>\n",
       "  </thead>\n",
       "  <tbody>\n",
       "    <tr>\n",
       "      <th>21360</th>\n",
       "      <td>53</td>\n",
       "      <td>Private</td>\n",
       "      <td>127671</td>\n",
       "      <td>7th-8th</td>\n",
       "      <td>4</td>\n",
       "      <td>Married-civ-spouse</td>\n",
       "      <td>Machine-op-inspct</td>\n",
       "      <td>Husband</td>\n",
       "      <td>White</td>\n",
       "      <td>Male</td>\n",
       "      <td>0</td>\n",
       "      <td>0</td>\n",
       "      <td>40</td>\n",
       "      <td>United-States</td>\n",
       "      <td>&lt;=50K</td>\n",
       "      <td>False</td>\n",
       "    </tr>\n",
       "    <tr>\n",
       "      <th>40012</th>\n",
       "      <td>61</td>\n",
       "      <td>Private</td>\n",
       "      <td>477209</td>\n",
       "      <td>7th-8th</td>\n",
       "      <td>4</td>\n",
       "      <td>Married-civ-spouse</td>\n",
       "      <td>Farming-fishing</td>\n",
       "      <td>Husband</td>\n",
       "      <td>White</td>\n",
       "      <td>Male</td>\n",
       "      <td>0</td>\n",
       "      <td>0</td>\n",
       "      <td>54</td>\n",
       "      <td>United-States</td>\n",
       "      <td>&lt;=50K</td>\n",
       "      <td>False</td>\n",
       "    </tr>\n",
       "    <tr>\n",
       "      <th>22650</th>\n",
       "      <td>56</td>\n",
       "      <td>Private</td>\n",
       "      <td>159724</td>\n",
       "      <td>Some-college</td>\n",
       "      <td>10</td>\n",
       "      <td>Married-civ-spouse</td>\n",
       "      <td>Transport-moving</td>\n",
       "      <td>Husband</td>\n",
       "      <td>White</td>\n",
       "      <td>Male</td>\n",
       "      <td>0</td>\n",
       "      <td>0</td>\n",
       "      <td>40</td>\n",
       "      <td>United-States</td>\n",
       "      <td>&gt;50K</td>\n",
       "      <td>False</td>\n",
       "    </tr>\n",
       "    <tr>\n",
       "      <th>16685</th>\n",
       "      <td>28</td>\n",
       "      <td>Private</td>\n",
       "      <td>166481</td>\n",
       "      <td>7th-8th</td>\n",
       "      <td>4</td>\n",
       "      <td>Married-civ-spouse</td>\n",
       "      <td>Handlers-cleaners</td>\n",
       "      <td>Husband</td>\n",
       "      <td>Other</td>\n",
       "      <td>Male</td>\n",
       "      <td>0</td>\n",
       "      <td>2179</td>\n",
       "      <td>40</td>\n",
       "      <td>Puerto-Rico</td>\n",
       "      <td>&lt;=50K</td>\n",
       "      <td>True</td>\n",
       "    </tr>\n",
       "    <tr>\n",
       "      <th>18161</th>\n",
       "      <td>24</td>\n",
       "      <td>Private</td>\n",
       "      <td>282202</td>\n",
       "      <td>HS-grad</td>\n",
       "      <td>9</td>\n",
       "      <td>Never-married</td>\n",
       "      <td>Other-service</td>\n",
       "      <td>Unmarried</td>\n",
       "      <td>White</td>\n",
       "      <td>Male</td>\n",
       "      <td>0</td>\n",
       "      <td>0</td>\n",
       "      <td>40</td>\n",
       "      <td>El-Salvador</td>\n",
       "      <td>&lt;=50K</td>\n",
       "      <td>True</td>\n",
       "    </tr>\n",
       "    <tr>\n",
       "      <th>22793</th>\n",
       "      <td>37</td>\n",
       "      <td>Self-emp-not-inc</td>\n",
       "      <td>188774</td>\n",
       "      <td>Bachelors</td>\n",
       "      <td>13</td>\n",
       "      <td>Never-married</td>\n",
       "      <td>Protective-serv</td>\n",
       "      <td>Not-in-family</td>\n",
       "      <td>White</td>\n",
       "      <td>Male</td>\n",
       "      <td>0</td>\n",
       "      <td>0</td>\n",
       "      <td>55</td>\n",
       "      <td>United-States</td>\n",
       "      <td>&gt;50K</td>\n",
       "      <td>False</td>\n",
       "    </tr>\n",
       "    <tr>\n",
       "      <th>26582</th>\n",
       "      <td>27</td>\n",
       "      <td>Private</td>\n",
       "      <td>157941</td>\n",
       "      <td>Assoc-voc</td>\n",
       "      <td>11</td>\n",
       "      <td>Married-civ-spouse</td>\n",
       "      <td>Sales</td>\n",
       "      <td>Husband</td>\n",
       "      <td>White</td>\n",
       "      <td>Male</td>\n",
       "      <td>0</td>\n",
       "      <td>0</td>\n",
       "      <td>45</td>\n",
       "      <td>United-States</td>\n",
       "      <td>&lt;=50K</td>\n",
       "      <td>False</td>\n",
       "    </tr>\n",
       "    <tr>\n",
       "      <th>19514</th>\n",
       "      <td>52</td>\n",
       "      <td>Private</td>\n",
       "      <td>141301</td>\n",
       "      <td>HS-grad</td>\n",
       "      <td>9</td>\n",
       "      <td>Divorced</td>\n",
       "      <td>Machine-op-inspct</td>\n",
       "      <td>Not-in-family</td>\n",
       "      <td>White</td>\n",
       "      <td>Female</td>\n",
       "      <td>0</td>\n",
       "      <td>0</td>\n",
       "      <td>40</td>\n",
       "      <td>United-States</td>\n",
       "      <td>&lt;=50K</td>\n",
       "      <td>False</td>\n",
       "    </tr>\n",
       "    <tr>\n",
       "      <th>41112</th>\n",
       "      <td>24</td>\n",
       "      <td>Private</td>\n",
       "      <td>321666</td>\n",
       "      <td>Assoc-acdm</td>\n",
       "      <td>12</td>\n",
       "      <td>Never-married</td>\n",
       "      <td>Machine-op-inspct</td>\n",
       "      <td>Own-child</td>\n",
       "      <td>White</td>\n",
       "      <td>Male</td>\n",
       "      <td>0</td>\n",
       "      <td>0</td>\n",
       "      <td>20</td>\n",
       "      <td>United-States</td>\n",
       "      <td>&lt;=50K</td>\n",
       "      <td>False</td>\n",
       "    </tr>\n",
       "    <tr>\n",
       "      <th>45913</th>\n",
       "      <td>51</td>\n",
       "      <td>Self-emp-inc</td>\n",
       "      <td>230095</td>\n",
       "      <td>Assoc-voc</td>\n",
       "      <td>11</td>\n",
       "      <td>Never-married</td>\n",
       "      <td>Adm-clerical</td>\n",
       "      <td>Own-child</td>\n",
       "      <td>White</td>\n",
       "      <td>Female</td>\n",
       "      <td>0</td>\n",
       "      <td>0</td>\n",
       "      <td>40</td>\n",
       "      <td>United-States</td>\n",
       "      <td>&lt;=50K</td>\n",
       "      <td>False</td>\n",
       "    </tr>\n",
       "  </tbody>\n",
       "</table>\n",
       "</div>"
      ],
      "text/plain": [
       "       age         workclass  fnlwgt     education  educational-num  \\\n",
       "21360   53           Private  127671       7th-8th                4   \n",
       "40012   61           Private  477209       7th-8th                4   \n",
       "22650   56           Private  159724  Some-college               10   \n",
       "16685   28           Private  166481       7th-8th                4   \n",
       "18161   24           Private  282202       HS-grad                9   \n",
       "22793   37  Self-emp-not-inc  188774     Bachelors               13   \n",
       "26582   27           Private  157941     Assoc-voc               11   \n",
       "19514   52           Private  141301       HS-grad                9   \n",
       "41112   24           Private  321666    Assoc-acdm               12   \n",
       "45913   51      Self-emp-inc  230095     Assoc-voc               11   \n",
       "\n",
       "           marital-status         occupation   relationship   race  gender  \\\n",
       "21360  Married-civ-spouse  Machine-op-inspct        Husband  White    Male   \n",
       "40012  Married-civ-spouse    Farming-fishing        Husband  White    Male   \n",
       "22650  Married-civ-spouse   Transport-moving        Husband  White    Male   \n",
       "16685  Married-civ-spouse  Handlers-cleaners        Husband  Other    Male   \n",
       "18161       Never-married      Other-service      Unmarried  White    Male   \n",
       "22793       Never-married    Protective-serv  Not-in-family  White    Male   \n",
       "26582  Married-civ-spouse              Sales        Husband  White    Male   \n",
       "19514            Divorced  Machine-op-inspct  Not-in-family  White  Female   \n",
       "41112       Never-married  Machine-op-inspct      Own-child  White    Male   \n",
       "45913       Never-married       Adm-clerical      Own-child  White  Female   \n",
       "\n",
       "       capital-gain  capital-loss  hours-per-week native-country income  \\\n",
       "21360             0             0              40  United-States  <=50K   \n",
       "40012             0             0              54  United-States  <=50K   \n",
       "22650             0             0              40  United-States   >50K   \n",
       "16685             0          2179              40    Puerto-Rico  <=50K   \n",
       "18161             0             0              40    El-Salvador  <=50K   \n",
       "22793             0             0              55  United-States   >50K   \n",
       "26582             0             0              45  United-States  <=50K   \n",
       "19514             0             0              40  United-States  <=50K   \n",
       "41112             0             0              20  United-States  <=50K   \n",
       "45913             0             0              40  United-States  <=50K   \n",
       "\n",
       "       immigrant  \n",
       "21360      False  \n",
       "40012      False  \n",
       "22650      False  \n",
       "16685       True  \n",
       "18161       True  \n",
       "22793      False  \n",
       "26582      False  \n",
       "19514      False  \n",
       "41112      False  \n",
       "45913      False  "
      ]
     },
     "execution_count": 13,
     "metadata": {},
     "output_type": "execute_result"
    }
   ],
   "source": [
    "df.sample(10)"
   ]
  },
  {
   "cell_type": "code",
   "execution_count": 14,
   "metadata": {
    "ExecuteTime": {
     "end_time": "2020-12-12T17:21:13.962105Z",
     "start_time": "2020-12-12T17:21:13.686742Z"
    }
   },
   "outputs": [
    {
     "data": {
      "image/png": "[encoded data removed]",
      "text/plain": [
       "<Figure size 576x576 with 1 Axes>"
      ]
     },
     "metadata": {
      "needs_background": "light"
     },
     "output_type": "display_data"
    }
   ],
   "source": [
    "plt.figure(figsize=(8,8))\n",
    "ax = sns.countplot(x='income', hue='immigrant', data=df)"
   ]
  },
  {
   "cell_type": "markdown",
   "metadata": {},
   "source": [
    "# What is the difference in population proportions of adult US workers self-identified as immigrant reporting an income less than 50K or more than 50k?\n",
    "\n",
    "**Populations**: All adult US workers self-identified as immigrants.\n",
    "\n",
    "**Parameter of interest**: Difference in population proportions."
   ]
  },
  {
   "cell_type": "code",
   "execution_count": 15,
   "metadata": {
    "ExecuteTime": {
     "end_time": "2020-12-12T17:21:13.977073Z",
     "start_time": "2020-12-12T17:21:13.964320Z"
    }
   },
   "outputs": [],
   "source": [
    "samples = df.groupby(['income', 'immigrant']).size().reset_index(name='counts')"
   ]
  },
  {
   "cell_type": "code",
   "execution_count": 16,
   "metadata": {
    "ExecuteTime": {
     "end_time": "2020-12-12T17:21:13.987102Z",
     "start_time": "2020-12-12T17:21:13.978880Z"
    }
   },
   "outputs": [
    {
     "data": {
      "text/html": [
       "<div>\n",
       "<style scoped>\n",
       "    .dataframe tbody tr th:only-of-type {\n",
       "        vertical-align: middle;\n",
       "    }\n",
       "\n",
       "    .dataframe tbody tr th {\n",
       "        vertical-align: top;\n",
       "    }\n",
       "\n",
       "    .dataframe thead th {\n",
       "        text-align: right;\n",
       "    }\n",
       "</style>\n",
       "<table border=\"1\" class=\"dataframe\">\n",
       "  <thead>\n",
       "    <tr style=\"text-align: right;\">\n",
       "      <th></th>\n",
       "      <th>income</th>\n",
       "      <th>immigrant</th>\n",
       "      <th>counts</th>\n",
       "    </tr>\n",
       "  </thead>\n",
       "  <tbody>\n",
       "    <tr>\n",
       "      <th>0</th>\n",
       "      <td>&lt;=50K</td>\n",
       "      <td>False</td>\n",
       "      <td>33160</td>\n",
       "    </tr>\n",
       "    <tr>\n",
       "      <th>1</th>\n",
       "      <td>&lt;=50K</td>\n",
       "      <td>True</td>\n",
       "      <td>3358</td>\n",
       "    </tr>\n",
       "    <tr>\n",
       "      <th>2</th>\n",
       "      <td>&gt;50K</td>\n",
       "      <td>False</td>\n",
       "      <td>10695</td>\n",
       "    </tr>\n",
       "    <tr>\n",
       "      <th>3</th>\n",
       "      <td>&gt;50K</td>\n",
       "      <td>True</td>\n",
       "      <td>772</td>\n",
       "    </tr>\n",
       "  </tbody>\n",
       "</table>\n",
       "</div>"
      ],
      "text/plain": [
       "  income  immigrant  counts\n",
       "0  <=50K      False   33160\n",
       "1  <=50K       True    3358\n",
       "2   >50K      False   10695\n",
       "3   >50K       True     772"
      ]
     },
     "execution_count": 16,
     "metadata": {},
     "output_type": "execute_result"
    }
   ],
   "source": [
    "samples"
   ]
  },
  {
   "cell_type": "code",
   "execution_count": 17,
   "metadata": {
    "ExecuteTime": {
     "end_time": "2020-12-12T17:21:14.007192Z",
     "start_time": "2020-12-12T17:21:13.989317Z"
    }
   },
   "outputs": [],
   "source": [
    "lt_local, lt_imm, mt_local, mt_imm = samples['counts']"
   ]
  },
  {
   "cell_type": "code",
   "execution_count": 18,
   "metadata": {
    "ExecuteTime": {
     "end_time": "2020-12-12T17:21:14.015807Z",
     "start_time": "2020-12-12T17:21:14.009931Z"
    }
   },
   "outputs": [],
   "source": [
    "lt_prop = lt_imm / (lt_local + lt_imm)"
   ]
  },
  {
   "cell_type": "code",
   "execution_count": 19,
   "metadata": {
    "ExecuteTime": {
     "end_time": "2020-12-12T17:21:14.022199Z",
     "start_time": "2020-12-12T17:21:14.017693Z"
    }
   },
   "outputs": [],
   "source": [
    "mt_prop = mt_imm / (mt_local + mt_imm)"
   ]
  },
  {
   "cell_type": "code",
   "execution_count": 20,
   "metadata": {
    "ExecuteTime": {
     "end_time": "2020-12-12T17:21:14.044869Z",
     "start_time": "2020-12-12T17:21:14.025294Z"
    }
   },
   "outputs": [
    {
     "name": "stdout",
     "output_type": "stream",
     "text": [
      "The proportion of immigrant worker earning $50K or less is: 0.092\n"
     ]
    }
   ],
   "source": [
    "print(f'The proportion of immigrant worker earning $50K or less is: {lt_prop:.3f}')"
   ]
  },
  {
   "cell_type": "code",
   "execution_count": 21,
   "metadata": {
    "ExecuteTime": {
     "end_time": "2020-12-12T17:21:14.052414Z",
     "start_time": "2020-12-12T17:21:14.047375Z"
    }
   },
   "outputs": [
    {
     "name": "stdout",
     "output_type": "stream",
     "text": [
      "The proportion of immigrant worker earning more than $50K is: 0.067\n"
     ]
    }
   ],
   "source": [
    "print(f'The proportion of immigrant worker earning more than $50K is: {mt_prop:.3f}')"
   ]
  },
  {
   "cell_type": "code",
   "execution_count": 22,
   "metadata": {
    "ExecuteTime": {
     "end_time": "2020-12-12T17:21:14.069685Z",
     "start_time": "2020-12-12T17:21:14.054160Z"
    }
   },
   "outputs": [
    {
     "name": "stdout",
     "output_type": "stream",
     "text": [
      "The difference between these proportions is: 0.025\n"
     ]
    }
   ],
   "source": [
    "prop_diff = lt_prop - mt_prop\n",
    "\n",
    "print(f'The difference between these proportions is: {prop_diff:.3f}')"
   ]
  },
  {
   "cell_type": "markdown",
   "metadata": {},
   "source": [
    "## Confidence Interval\n",
    "Estimate 95% confidence interval for the population proportions difference\n",
    "\n",
    "$(\\hat{p}_1 - \\hat{p}_2) \\pm z_{a/2} \\sqrt{\\frac{\\hat{p}_1(1-\\hat{p}_1)}{n_1}+\\frac{\\hat{p}_2(1-\\hat{p}_2)}{n_2}}$"
   ]
  },
  {
   "cell_type": "code",
   "execution_count": 23,
   "metadata": {
    "ExecuteTime": {
     "end_time": "2020-12-12T17:21:14.077835Z",
     "start_time": "2020-12-12T17:21:14.072639Z"
    }
   },
   "outputs": [],
   "source": [
    "n1 = (lt_local + lt_imm)\n",
    "a = (lt_prop * (1 - lt_prop)) / n1\n",
    "\n",
    "n2 = (mt_local + mt_imm)\n",
    "b = (mt_prop * (1 - mt_prop)) / n2\n",
    "\n",
    "margin = 1.96 * np.sqrt(a + b)"
   ]
  },
  {
   "cell_type": "code",
   "execution_count": 24,
   "metadata": {
    "ExecuteTime": {
     "end_time": "2020-12-12T17:21:14.106327Z",
     "start_time": "2020-12-12T17:21:14.080251Z"
    }
   },
   "outputs": [
    {
     "name": "stdout",
     "output_type": "stream",
     "text": [
      "The 95% confidence interval is: (0.019, 0.030)\n"
     ]
    }
   ],
   "source": [
    "print(f'The 95% confidence interval is: ({prop_diff - margin:.3f}, {prop_diff + margin:.3f})')"
   ]
  },
  {
   "cell_type": "markdown",
   "metadata": {},
   "source": [
    "## Hypothesis test\n",
    "Now let's perform a hypothesis test to understand if the change in proportions is statistically significant.\n",
    "\n",
    "$H_0$: There is no difference in population proportion, with a 95% confidence\n",
    "\n",
    "$H_0 : p_1 - p_2 = 0$\n",
    "\n",
    "$H_a : p_1 - p_2 \\ne 0$\n",
    "\n",
    "\n",
    "$Z = \\frac{(\\hat{p}_1-\\hat{p}_2) - 0}{\\sqrt{\\frac{\\hat{p}_1(1-\\hat{p}_1)}{n_1}+\\frac{\\hat{p}_2(1-\\hat{p}_2)}{n_2}}}$\n"
   ]
  },
  {
   "cell_type": "code",
   "execution_count": 25,
   "metadata": {
    "ExecuteTime": {
     "end_time": "2020-12-12T17:21:14.114540Z",
     "start_time": "2020-12-12T17:21:14.110699Z"
    }
   },
   "outputs": [],
   "source": [
    "z = prop_diff / np.sqrt(a + b)"
   ]
  },
  {
   "cell_type": "code",
   "execution_count": 26,
   "metadata": {
    "ExecuteTime": {
     "end_time": "2020-12-12T17:21:14.127788Z",
     "start_time": "2020-12-12T17:21:14.117267Z"
    }
   },
   "outputs": [],
   "source": [
    "import scipy\n",
    "\n",
    "p_value = scipy.stats.norm.pdf(abs(z))*2 # two - sided test\n",
    "\n",
    "if np.isclose(p_value, 0):\n",
    "    p_value = 0"
   ]
  },
  {
   "cell_type": "code",
   "execution_count": 27,
   "metadata": {
    "ExecuteTime": {
     "end_time": "2020-12-12T17:21:14.138470Z",
     "start_time": "2020-12-12T17:21:14.129905Z"
    }
   },
   "outputs": [
    {
     "name": "stdout",
     "output_type": "stream",
     "text": [
      "The test z-score is: 8.841, which corresponds to a p-value of: 0\n"
     ]
    }
   ],
   "source": [
    "print(f\"The test z-score is: {z:.3f}, which corresponds to a p-value of: {p_value}\")"
   ]
  },
  {
   "cell_type": "markdown",
   "metadata": {},
   "source": [
    "Let's check my calculations with the results from a library, in case I made a mistake."
   ]
  },
  {
   "cell_type": "code",
   "execution_count": 28,
   "metadata": {
    "ExecuteTime": {
     "end_time": "2020-12-12T17:21:14.148076Z",
     "start_time": "2020-12-12T17:21:14.140700Z"
    }
   },
   "outputs": [
    {
     "name": "stdout",
     "output_type": "stream",
     "text": [
      "z_stat: 8.204, p_value: 0.000\n",
      "Reject the null hypothesis - suggest the alternative hypothesis is true\n"
     ]
    }
   ],
   "source": [
    "from statsmodels.stats.proportion import proportions_ztest\n",
    "\n",
    "# https://sonalake.com/latest/hypothesis-testing-of-proportion-based-samples/\n",
    "\n",
    "significance = 0.05\n",
    "\n",
    "sample_success_a, sample_size_a = (lt_imm, n1)\n",
    "sample_success_b, sample_size_b = (mt_imm, n2)\n",
    "\n",
    "successes = np.array([sample_success_a, sample_success_b])\n",
    "samples = np.array([sample_size_a, sample_size_b])\n",
    "\n",
    "stat, p_value = proportions_ztest(count=successes, nobs=samples,  alternative='two-sided')\n",
    "\n",
    "# report\n",
    "print('z_stat: %0.3f, p_value: %0.3f' % (stat, p_value))\n",
    "if p_value > significance:\n",
    "    print (\"Fail to reject the null hypothesis - we have nothing else to say\")\n",
    "else:\n",
    "    print (\"Reject the null hypothesis - suggest the alternative hypothesis is true\")"
   ]
  },
  {
   "cell_type": "markdown",
   "metadata": {},
   "source": [
    "The `statsmodels` library produces similar results."
   ]
  },
  {
   "cell_type": "markdown",
   "metadata": {},
   "source": [
    "# Conclusion"
   ]
  },
  {
   "cell_type": "markdown",
   "metadata": {},
   "source": [
    "With 95\\% confidence, the population proportion for adult US workers self-identified as immigrants earning \\\\$50K or less is 1.9 to 3.0\\% higher than the population of US workers self-identified as immigrants earning more than \\\\$50K.\n",
    "\n",
    "In other words, the proportion of immigrants earning $50K or less is about 2.5\\% more of those earning more. For example, if the US population is represented by 10000 people, this means that:\n",
    "1. 6910 will be locals earning \\\\$50k or less\n",
    "2. 700 will be immigrants earning \\\\$50k or less\n",
    "3. 2229 locals earning more than \\\\$50k\n",
    "4. 161 will be immigrants earning more than \\\\$50k\n",
    "\n",
    "Even though the change in proportion can take a relatively small number (1.9\\% to 3\\%), this change is statistically significant, and thus, we need to reject the hypothesis of the two populations begin the same. In other words, the proportion of immigrant workers decreases from 9\\% to 6.5\\%, between the lower and higher income categories. This reduction is roughly 28\\% (2.5\\% in 9\\%), which indicates the tendency to have more immigrants earning $50K or less."
   ]
  }
 ],
 "metadata": {
  "kernelspec": {
   "display_name": "springboard",
   "language": "python",
   "name": "springboard"
  },
  "language_info": {
   "codemirror_mode": {
    "name": "ipython",
    "version": 3
   },
   "file_extension": ".py",
   "mimetype": "text/x-python",
   "name": "python",
   "nbconvert_exporter": "python",
   "pygments_lexer": "ipython3",
   "version": "3.8.2"
  },
  "toc": {
   "base_numbering": 1,
   "nav_menu": {},
   "number_sections": true,
   "sideBar": true,
   "skip_h1_title": false,
   "title_cell": "Table of Contents",
   "title_sidebar": "Contents",
   "toc_cell": false,
   "toc_position": {},
   "toc_section_display": true,
   "toc_window_display": false
  }
 },
 "nbformat": 4,
 "nbformat_minor": 4
}
