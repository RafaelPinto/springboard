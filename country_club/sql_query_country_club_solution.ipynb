{
 "cells": [
  {
   "cell_type": "markdown",
   "metadata": {},
   "source": [
    "# Preamble"
   ]
  },
  {
   "cell_type": "markdown",
   "metadata": {},
   "source": [
    "First export the tables as an SQL file from phpadmin.\n",
    "\n",
    "Then fix the SQL file following [these tips](http://livecode.byu.edu/database/mysql-sqliteExport.php).\n",
    "\n",
    "Finally run this instruction (below) from this [SO answer](https://stackoverflow.com/a/2049137).\n",
    "\n",
    "This will create an sqlite database that we can connect to."
   ]
  },
  {
   "cell_type": "code",
   "execution_count": 4,
   "metadata": {
    "ExecuteTime": {
     "end_time": "2020-08-07T16:38:31.150763Z",
     "start_time": "2020-08-07T16:38:29.702655Z"
    }
   },
   "outputs": [],
   "source": [
    "!cat country_club_db.sql | sqlite3 country_club_db.db"
   ]
  },
  {
   "cell_type": "code",
   "execution_count": 5,
   "metadata": {
    "ExecuteTime": {
     "end_time": "2020-08-07T16:38:39.073893Z",
     "start_time": "2020-08-07T16:38:38.943133Z"
    }
   },
   "outputs": [
    {
     "name": "stdout",
     "output_type": "stream",
     "text": [
      "1584480990_SQLTasks_Tier_2.sql\tcountry_club_db.sql\r\n",
      "country_club_db.db\t\tUntitled.ipynb\r\n"
     ]
    }
   ],
   "source": [
    "!ls"
   ]
  },
  {
   "cell_type": "markdown",
   "metadata": {},
   "source": [
    "# Get the engine"
   ]
  },
  {
   "cell_type": "code",
   "execution_count": 11,
   "metadata": {
    "ExecuteTime": {
     "end_time": "2020-08-07T16:53:22.284857Z",
     "start_time": "2020-08-07T16:53:21.472027Z"
    }
   },
   "outputs": [],
   "source": [
    "import pandas as pd\n",
    "\n",
    "from sqlalchemy import create_engine"
   ]
  },
  {
   "cell_type": "code",
   "execution_count": 8,
   "metadata": {
    "ExecuteTime": {
     "end_time": "2020-08-07T16:39:15.974457Z",
     "start_time": "2020-08-07T16:39:15.945535Z"
    }
   },
   "outputs": [],
   "source": [
    "engine = create_engine('sqlite:///country_club_db.db')"
   ]
  },
  {
   "cell_type": "code",
   "execution_count": 10,
   "metadata": {
    "ExecuteTime": {
     "end_time": "2020-08-07T16:39:40.609678Z",
     "start_time": "2020-08-07T16:39:40.584915Z"
    }
   },
   "outputs": [
    {
     "data": {
      "text/plain": [
       "['Bookings', 'Facilities', 'Members']"
      ]
     },
     "execution_count": 10,
     "metadata": {},
     "output_type": "execute_result"
    }
   ],
   "source": [
    "engine.table_names()"
   ]
  },
  {
   "cell_type": "markdown",
   "metadata": {},
   "source": [
    "# PART 2: SQLite\n",
    "\n",
    "Export the country club data from PHPMyAdmin, and connect to a local SQLite instance from Jupyter notebook \n",
    "for the following questions.  \n",
    "\n",
    "## QUESTIONS:\n",
    "### Q10: Produce a list of facilities with a total revenue less than 1000.\n",
    "The output of facility name and total revenue, sorted by revenue. Remember\n",
    "that there's a different cost for guests and members! */"
   ]
  },
  {
   "cell_type": "code",
   "execution_count": 44,
   "metadata": {
    "ExecuteTime": {
     "end_time": "2020-08-07T18:00:39.911518Z",
     "start_time": "2020-08-07T18:00:39.900242Z"
    }
   },
   "outputs": [],
   "source": [
    "query_q10 = \"\"\"\n",
    "WITH total_cost AS (\n",
    "SELECT\n",
    "      f.name as facility_name,\n",
    "      CASE WHEN b.memid = 0 THEN (f.guestcost * b.slots)\n",
    "      ELSE (f.membercost * b.slots) END AS cost\n",
    "FROM Bookings AS b\n",
    "INNER JOIN Facilities as f\n",
    "  ON b.facid = f.facid\n",
    "INNER JOIN Members AS m\n",
    "  ON b.memid = m.memid\n",
    ")\n",
    "SELECT facility_name,\n",
    "       SUM(cost) as total_revenue\n",
    "FROM total_cost\n",
    "GROUP BY facility_name\n",
    "HAVING total_revenue < 1000\n",
    "ORDER BY total_revenue\n",
    "\"\"\""
   ]
  },
  {
   "cell_type": "code",
   "execution_count": 45,
   "metadata": {
    "ExecuteTime": {
     "end_time": "2020-08-07T18:00:40.318382Z",
     "start_time": "2020-08-07T18:00:40.294687Z"
    }
   },
   "outputs": [],
   "source": [
    "rs = pd.read_sql_query(query_q10, engine)"
   ]
  },
  {
   "cell_type": "code",
   "execution_count": 46,
   "metadata": {
    "ExecuteTime": {
     "end_time": "2020-08-07T18:00:40.724413Z",
     "start_time": "2020-08-07T18:00:40.699943Z"
    }
   },
   "outputs": [
    {
     "data": {
      "text/html": [
       "<div>\n",
       "<style scoped>\n",
       "    .dataframe tbody tr th:only-of-type {\n",
       "        vertical-align: middle;\n",
       "    }\n",
       "\n",
       "    .dataframe tbody tr th {\n",
       "        vertical-align: top;\n",
       "    }\n",
       "\n",
       "    .dataframe thead th {\n",
       "        text-align: right;\n",
       "    }\n",
       "</style>\n",
       "<table border=\"1\" class=\"dataframe\">\n",
       "  <thead>\n",
       "    <tr style=\"text-align: right;\">\n",
       "      <th></th>\n",
       "      <th>facility_name</th>\n",
       "      <th>total_revenue</th>\n",
       "    </tr>\n",
       "  </thead>\n",
       "  <tbody>\n",
       "    <tr>\n",
       "      <th>0</th>\n",
       "      <td>Table Tennis</td>\n",
       "      <td>180</td>\n",
       "    </tr>\n",
       "    <tr>\n",
       "      <th>1</th>\n",
       "      <td>Snooker Table</td>\n",
       "      <td>240</td>\n",
       "    </tr>\n",
       "    <tr>\n",
       "      <th>2</th>\n",
       "      <td>Pool Table</td>\n",
       "      <td>270</td>\n",
       "    </tr>\n",
       "  </tbody>\n",
       "</table>\n",
       "</div>"
      ],
      "text/plain": [
       "   facility_name  total_revenue\n",
       "0   Table Tennis            180\n",
       "1  Snooker Table            240\n",
       "2     Pool Table            270"
      ]
     },
     "execution_count": 46,
     "metadata": {},
     "output_type": "execute_result"
    }
   ],
   "source": [
    "rs"
   ]
  },
  {
   "cell_type": "markdown",
   "metadata": {},
   "source": [
    "### Q11: Produce a report of members and who recommended them in alphabetic surname, firstname order"
   ]
  },
  {
   "cell_type": "code",
   "execution_count": 64,
   "metadata": {
    "ExecuteTime": {
     "end_time": "2020-08-07T18:23:56.333409Z",
     "start_time": "2020-08-07T18:23:56.327742Z"
    }
   },
   "outputs": [],
   "source": [
    "query_q11 = \"\"\"\n",
    "SELECT\n",
    "      m1.firstname AS firstname,\n",
    "      m1.surname AS surname,\n",
    "      m2.firstname AS rec_firstname,\n",
    "      m2.surname AS rec_surname\n",
    "FROM Members AS m1\n",
    "LEFT JOIN Members AS m2\n",
    "  ON m1.recommendedby = m2.memid\n",
    "ORDER BY m2.surname, m2.firstname\n",
    "\"\"\""
   ]
  },
  {
   "cell_type": "code",
   "execution_count": 65,
   "metadata": {
    "ExecuteTime": {
     "end_time": "2020-08-07T18:23:56.675693Z",
     "start_time": "2020-08-07T18:23:56.662995Z"
    }
   },
   "outputs": [],
   "source": [
    "rs = pd.read_sql_query(query_q11, engine)"
   ]
  },
  {
   "cell_type": "code",
   "execution_count": 67,
   "metadata": {
    "ExecuteTime": {
     "end_time": "2020-08-07T18:29:45.352347Z",
     "start_time": "2020-08-07T18:29:45.333753Z"
    }
   },
   "outputs": [
    {
     "data": {
      "text/html": [
       "<div>\n",
       "<style scoped>\n",
       "    .dataframe tbody tr th:only-of-type {\n",
       "        vertical-align: middle;\n",
       "    }\n",
       "\n",
       "    .dataframe tbody tr th {\n",
       "        vertical-align: top;\n",
       "    }\n",
       "\n",
       "    .dataframe thead th {\n",
       "        text-align: right;\n",
       "    }\n",
       "</style>\n",
       "<table border=\"1\" class=\"dataframe\">\n",
       "  <thead>\n",
       "    <tr style=\"text-align: right;\">\n",
       "      <th></th>\n",
       "      <th>firstname</th>\n",
       "      <th>surname</th>\n",
       "      <th>rec_firstname</th>\n",
       "      <th>rec_surname</th>\n",
       "    </tr>\n",
       "  </thead>\n",
       "  <tbody>\n",
       "    <tr>\n",
       "      <th>0</th>\n",
       "      <td>GUEST</td>\n",
       "      <td>GUEST</td>\n",
       "      <td>None</td>\n",
       "      <td>None</td>\n",
       "    </tr>\n",
       "    <tr>\n",
       "      <th>1</th>\n",
       "      <td>Darren</td>\n",
       "      <td>Smith</td>\n",
       "      <td>None</td>\n",
       "      <td>None</td>\n",
       "    </tr>\n",
       "    <tr>\n",
       "      <th>2</th>\n",
       "      <td>Tracy</td>\n",
       "      <td>Smith</td>\n",
       "      <td>None</td>\n",
       "      <td>None</td>\n",
       "    </tr>\n",
       "    <tr>\n",
       "      <th>3</th>\n",
       "      <td>Tim</td>\n",
       "      <td>Rownam</td>\n",
       "      <td>None</td>\n",
       "      <td>None</td>\n",
       "    </tr>\n",
       "    <tr>\n",
       "      <th>4</th>\n",
       "      <td>Burton</td>\n",
       "      <td>Tracy</td>\n",
       "      <td>None</td>\n",
       "      <td>None</td>\n",
       "    </tr>\n",
       "    <tr>\n",
       "      <th>5</th>\n",
       "      <td>Jemima</td>\n",
       "      <td>Farrell</td>\n",
       "      <td>None</td>\n",
       "      <td>None</td>\n",
       "    </tr>\n",
       "    <tr>\n",
       "      <th>6</th>\n",
       "      <td>David</td>\n",
       "      <td>Farrell</td>\n",
       "      <td>None</td>\n",
       "      <td>None</td>\n",
       "    </tr>\n",
       "    <tr>\n",
       "      <th>7</th>\n",
       "      <td>Hyacinth</td>\n",
       "      <td>Tupperware</td>\n",
       "      <td>None</td>\n",
       "      <td>None</td>\n",
       "    </tr>\n",
       "    <tr>\n",
       "      <th>8</th>\n",
       "      <td>Darren</td>\n",
       "      <td>Smith</td>\n",
       "      <td>None</td>\n",
       "      <td>None</td>\n",
       "    </tr>\n",
       "    <tr>\n",
       "      <th>9</th>\n",
       "      <td>Ramnaresh</td>\n",
       "      <td>Sarwin</td>\n",
       "      <td>Florence</td>\n",
       "      <td>Bader</td>\n",
       "    </tr>\n",
       "    <tr>\n",
       "      <th>10</th>\n",
       "      <td>Joan</td>\n",
       "      <td>Coplin</td>\n",
       "      <td>Timothy</td>\n",
       "      <td>Baker</td>\n",
       "    </tr>\n",
       "    <tr>\n",
       "      <th>11</th>\n",
       "      <td>Matthew</td>\n",
       "      <td>Genting</td>\n",
       "      <td>Gerald</td>\n",
       "      <td>Butters</td>\n",
       "    </tr>\n",
       "    <tr>\n",
       "      <th>12</th>\n",
       "      <td>Timothy</td>\n",
       "      <td>Baker</td>\n",
       "      <td>Jemima</td>\n",
       "      <td>Farrell</td>\n",
       "    </tr>\n",
       "    <tr>\n",
       "      <th>13</th>\n",
       "      <td>David</td>\n",
       "      <td>Pinker</td>\n",
       "      <td>Jemima</td>\n",
       "      <td>Farrell</td>\n",
       "    </tr>\n",
       "    <tr>\n",
       "      <th>14</th>\n",
       "      <td>Henrietta</td>\n",
       "      <td>Rumney</td>\n",
       "      <td>Matthew</td>\n",
       "      <td>Genting</td>\n",
       "    </tr>\n",
       "    <tr>\n",
       "      <th>15</th>\n",
       "      <td>Douglas</td>\n",
       "      <td>Jones</td>\n",
       "      <td>David</td>\n",
       "      <td>Jones</td>\n",
       "    </tr>\n",
       "    <tr>\n",
       "      <th>16</th>\n",
       "      <td>Nancy</td>\n",
       "      <td>Dare</td>\n",
       "      <td>Janice</td>\n",
       "      <td>Joplette</td>\n",
       "    </tr>\n",
       "    <tr>\n",
       "      <th>17</th>\n",
       "      <td>David</td>\n",
       "      <td>Jones</td>\n",
       "      <td>Janice</td>\n",
       "      <td>Joplette</td>\n",
       "    </tr>\n",
       "    <tr>\n",
       "      <th>18</th>\n",
       "      <td>John</td>\n",
       "      <td>Hunt</td>\n",
       "      <td>Millicent</td>\n",
       "      <td>Purview</td>\n",
       "    </tr>\n",
       "    <tr>\n",
       "      <th>19</th>\n",
       "      <td>Tim</td>\n",
       "      <td>Boothe</td>\n",
       "      <td>Tim</td>\n",
       "      <td>Rownam</td>\n",
       "    </tr>\n",
       "    <tr>\n",
       "      <th>20</th>\n",
       "      <td>Janice</td>\n",
       "      <td>Joplette</td>\n",
       "      <td>Darren</td>\n",
       "      <td>Smith</td>\n",
       "    </tr>\n",
       "    <tr>\n",
       "      <th>21</th>\n",
       "      <td>Gerald</td>\n",
       "      <td>Butters</td>\n",
       "      <td>Darren</td>\n",
       "      <td>Smith</td>\n",
       "    </tr>\n",
       "    <tr>\n",
       "      <th>22</th>\n",
       "      <td>Charles</td>\n",
       "      <td>Owen</td>\n",
       "      <td>Darren</td>\n",
       "      <td>Smith</td>\n",
       "    </tr>\n",
       "    <tr>\n",
       "      <th>23</th>\n",
       "      <td>Jack</td>\n",
       "      <td>Smith</td>\n",
       "      <td>Darren</td>\n",
       "      <td>Smith</td>\n",
       "    </tr>\n",
       "    <tr>\n",
       "      <th>24</th>\n",
       "      <td>Anna</td>\n",
       "      <td>Mackenzie</td>\n",
       "      <td>Darren</td>\n",
       "      <td>Smith</td>\n",
       "    </tr>\n",
       "    <tr>\n",
       "      <th>25</th>\n",
       "      <td>Henry</td>\n",
       "      <td>Worthington-Smyth</td>\n",
       "      <td>Tracy</td>\n",
       "      <td>Smith</td>\n",
       "    </tr>\n",
       "    <tr>\n",
       "      <th>26</th>\n",
       "      <td>Millicent</td>\n",
       "      <td>Purview</td>\n",
       "      <td>Tracy</td>\n",
       "      <td>Smith</td>\n",
       "    </tr>\n",
       "    <tr>\n",
       "      <th>27</th>\n",
       "      <td>Erica</td>\n",
       "      <td>Crumpet</td>\n",
       "      <td>Tracy</td>\n",
       "      <td>Smith</td>\n",
       "    </tr>\n",
       "    <tr>\n",
       "      <th>28</th>\n",
       "      <td>Anne</td>\n",
       "      <td>Baker</td>\n",
       "      <td>Ponder</td>\n",
       "      <td>Stibbons</td>\n",
       "    </tr>\n",
       "    <tr>\n",
       "      <th>29</th>\n",
       "      <td>Florence</td>\n",
       "      <td>Bader</td>\n",
       "      <td>Ponder</td>\n",
       "      <td>Stibbons</td>\n",
       "    </tr>\n",
       "    <tr>\n",
       "      <th>30</th>\n",
       "      <td>Ponder</td>\n",
       "      <td>Stibbons</td>\n",
       "      <td>Burton</td>\n",
       "      <td>Tracy</td>\n",
       "    </tr>\n",
       "  </tbody>\n",
       "</table>\n",
       "</div>"
      ],
      "text/plain": [
       "    firstname            surname rec_firstname rec_surname\n",
       "0       GUEST              GUEST          None        None\n",
       "1      Darren              Smith          None        None\n",
       "2       Tracy              Smith          None        None\n",
       "3         Tim             Rownam          None        None\n",
       "4      Burton              Tracy          None        None\n",
       "5      Jemima            Farrell          None        None\n",
       "6       David            Farrell          None        None\n",
       "7    Hyacinth         Tupperware          None        None\n",
       "8      Darren              Smith          None        None\n",
       "9   Ramnaresh             Sarwin      Florence       Bader\n",
       "10       Joan             Coplin       Timothy       Baker\n",
       "11    Matthew            Genting        Gerald     Butters\n",
       "12    Timothy              Baker        Jemima     Farrell\n",
       "13      David             Pinker        Jemima     Farrell\n",
       "14  Henrietta             Rumney       Matthew     Genting\n",
       "15    Douglas              Jones         David       Jones\n",
       "16      Nancy               Dare        Janice    Joplette\n",
       "17      David              Jones        Janice    Joplette\n",
       "18       John               Hunt     Millicent     Purview\n",
       "19        Tim             Boothe           Tim      Rownam\n",
       "20     Janice           Joplette        Darren       Smith\n",
       "21     Gerald            Butters        Darren       Smith\n",
       "22    Charles               Owen        Darren       Smith\n",
       "23       Jack              Smith        Darren       Smith\n",
       "24       Anna          Mackenzie        Darren       Smith\n",
       "25      Henry  Worthington-Smyth         Tracy       Smith\n",
       "26  Millicent            Purview         Tracy       Smith\n",
       "27      Erica            Crumpet         Tracy       Smith\n",
       "28       Anne              Baker        Ponder    Stibbons\n",
       "29   Florence              Bader        Ponder    Stibbons\n",
       "30     Ponder           Stibbons        Burton       Tracy"
      ]
     },
     "execution_count": 67,
     "metadata": {},
     "output_type": "execute_result"
    }
   ],
   "source": [
    "rs"
   ]
  },
  {
   "cell_type": "markdown",
   "metadata": {},
   "source": [
    "### Q12: Find the facilities with their usage by member, but not guests"
   ]
  },
  {
   "cell_type": "code",
   "execution_count": 77,
   "metadata": {
    "ExecuteTime": {
     "end_time": "2020-08-07T18:40:21.557191Z",
     "start_time": "2020-08-07T18:40:21.543822Z"
    }
   },
   "outputs": [],
   "source": [
    "query_q12 = \"\"\"\n",
    "SELECT\n",
    "      f.name as facility_name,\n",
    "      COUNT(b.memid) AS member_usage\n",
    "FROM Bookings AS b\n",
    "INNER JOIN Facilities as f\n",
    "  ON b.facid = f.facid\n",
    "WHERE b.memid <> 0\n",
    "GROUP BY facility_name\n",
    "\"\"\""
   ]
  },
  {
   "cell_type": "code",
   "execution_count": 78,
   "metadata": {
    "ExecuteTime": {
     "end_time": "2020-08-07T18:40:22.033563Z",
     "start_time": "2020-08-07T18:40:22.010322Z"
    }
   },
   "outputs": [],
   "source": [
    "rs = pd.read_sql_query(query_q12, engine)"
   ]
  },
  {
   "cell_type": "code",
   "execution_count": 79,
   "metadata": {
    "ExecuteTime": {
     "end_time": "2020-08-07T18:40:22.513259Z",
     "start_time": "2020-08-07T18:40:22.495941Z"
    }
   },
   "outputs": [
    {
     "data": {
      "text/html": [
       "<div>\n",
       "<style scoped>\n",
       "    .dataframe tbody tr th:only-of-type {\n",
       "        vertical-align: middle;\n",
       "    }\n",
       "\n",
       "    .dataframe tbody tr th {\n",
       "        vertical-align: top;\n",
       "    }\n",
       "\n",
       "    .dataframe thead th {\n",
       "        text-align: right;\n",
       "    }\n",
       "</style>\n",
       "<table border=\"1\" class=\"dataframe\">\n",
       "  <thead>\n",
       "    <tr style=\"text-align: right;\">\n",
       "      <th></th>\n",
       "      <th>facility_name</th>\n",
       "      <th>member_usage</th>\n",
       "    </tr>\n",
       "  </thead>\n",
       "  <tbody>\n",
       "    <tr>\n",
       "      <th>0</th>\n",
       "      <td>Badminton Court</td>\n",
       "      <td>344</td>\n",
       "    </tr>\n",
       "    <tr>\n",
       "      <th>1</th>\n",
       "      <td>Massage Room 1</td>\n",
       "      <td>421</td>\n",
       "    </tr>\n",
       "    <tr>\n",
       "      <th>2</th>\n",
       "      <td>Massage Room 2</td>\n",
       "      <td>27</td>\n",
       "    </tr>\n",
       "    <tr>\n",
       "      <th>3</th>\n",
       "      <td>Pool Table</td>\n",
       "      <td>783</td>\n",
       "    </tr>\n",
       "    <tr>\n",
       "      <th>4</th>\n",
       "      <td>Snooker Table</td>\n",
       "      <td>421</td>\n",
       "    </tr>\n",
       "    <tr>\n",
       "      <th>5</th>\n",
       "      <td>Squash Court</td>\n",
       "      <td>195</td>\n",
       "    </tr>\n",
       "    <tr>\n",
       "      <th>6</th>\n",
       "      <td>Table Tennis</td>\n",
       "      <td>385</td>\n",
       "    </tr>\n",
       "    <tr>\n",
       "      <th>7</th>\n",
       "      <td>Tennis Court 1</td>\n",
       "      <td>308</td>\n",
       "    </tr>\n",
       "    <tr>\n",
       "      <th>8</th>\n",
       "      <td>Tennis Court 2</td>\n",
       "      <td>276</td>\n",
       "    </tr>\n",
       "  </tbody>\n",
       "</table>\n",
       "</div>"
      ],
      "text/plain": [
       "     facility_name  member_usage\n",
       "0  Badminton Court           344\n",
       "1   Massage Room 1           421\n",
       "2   Massage Room 2            27\n",
       "3       Pool Table           783\n",
       "4    Snooker Table           421\n",
       "5     Squash Court           195\n",
       "6     Table Tennis           385\n",
       "7   Tennis Court 1           308\n",
       "8   Tennis Court 2           276"
      ]
     },
     "execution_count": 79,
     "metadata": {},
     "output_type": "execute_result"
    }
   ],
   "source": [
    "rs"
   ]
  },
  {
   "cell_type": "markdown",
   "metadata": {},
   "source": [
    "### Q13: Find the facilities usage by month, but not guests"
   ]
  },
  {
   "cell_type": "code",
   "execution_count": 94,
   "metadata": {
    "ExecuteTime": {
     "end_time": "2020-08-07T19:04:08.977871Z",
     "start_time": "2020-08-07T19:04:08.972989Z"
    }
   },
   "outputs": [],
   "source": [
    "query_q13 = \"\"\"\n",
    "SELECT\n",
    "      f.name as facility_name,\n",
    "      strftime('%m', b.starttime) as month,\n",
    "      COUNT(b.memid) as monthly_use\n",
    "FROM Bookings AS b\n",
    "INNER JOIN Facilities as f\n",
    "  ON b.facid = f.facid\n",
    "WHERE b.memid <> 0\n",
    "GROUP BY facility_name, month\n",
    "\"\"\""
   ]
  },
  {
   "cell_type": "code",
   "execution_count": 95,
   "metadata": {
    "ExecuteTime": {
     "end_time": "2020-08-07T19:04:09.422444Z",
     "start_time": "2020-08-07T19:04:09.405415Z"
    }
   },
   "outputs": [],
   "source": [
    "rs = pd.read_sql_query(query_q13, engine)"
   ]
  },
  {
   "cell_type": "code",
   "execution_count": 96,
   "metadata": {
    "ExecuteTime": {
     "end_time": "2020-08-07T19:04:10.154077Z",
     "start_time": "2020-08-07T19:04:10.077041Z"
    }
   },
   "outputs": [
    {
     "data": {
      "text/html": [
       "<div>\n",
       "<style scoped>\n",
       "    .dataframe tbody tr th:only-of-type {\n",
       "        vertical-align: middle;\n",
       "    }\n",
       "\n",
       "    .dataframe tbody tr th {\n",
       "        vertical-align: top;\n",
       "    }\n",
       "\n",
       "    .dataframe thead th {\n",
       "        text-align: right;\n",
       "    }\n",
       "</style>\n",
       "<table border=\"1\" class=\"dataframe\">\n",
       "  <thead>\n",
       "    <tr style=\"text-align: right;\">\n",
       "      <th></th>\n",
       "      <th>facility_name</th>\n",
       "      <th>month</th>\n",
       "      <th>monthly_use</th>\n",
       "    </tr>\n",
       "  </thead>\n",
       "  <tbody>\n",
       "    <tr>\n",
       "      <th>0</th>\n",
       "      <td>Badminton Court</td>\n",
       "      <td>07</td>\n",
       "      <td>51</td>\n",
       "    </tr>\n",
       "    <tr>\n",
       "      <th>1</th>\n",
       "      <td>Badminton Court</td>\n",
       "      <td>08</td>\n",
       "      <td>132</td>\n",
       "    </tr>\n",
       "    <tr>\n",
       "      <th>2</th>\n",
       "      <td>Badminton Court</td>\n",
       "      <td>09</td>\n",
       "      <td>161</td>\n",
       "    </tr>\n",
       "    <tr>\n",
       "      <th>3</th>\n",
       "      <td>Massage Room 1</td>\n",
       "      <td>07</td>\n",
       "      <td>77</td>\n",
       "    </tr>\n",
       "    <tr>\n",
       "      <th>4</th>\n",
       "      <td>Massage Room 1</td>\n",
       "      <td>08</td>\n",
       "      <td>153</td>\n",
       "    </tr>\n",
       "    <tr>\n",
       "      <th>5</th>\n",
       "      <td>Massage Room 1</td>\n",
       "      <td>09</td>\n",
       "      <td>191</td>\n",
       "    </tr>\n",
       "    <tr>\n",
       "      <th>6</th>\n",
       "      <td>Massage Room 2</td>\n",
       "      <td>07</td>\n",
       "      <td>4</td>\n",
       "    </tr>\n",
       "    <tr>\n",
       "      <th>7</th>\n",
       "      <td>Massage Room 2</td>\n",
       "      <td>08</td>\n",
       "      <td>9</td>\n",
       "    </tr>\n",
       "    <tr>\n",
       "      <th>8</th>\n",
       "      <td>Massage Room 2</td>\n",
       "      <td>09</td>\n",
       "      <td>14</td>\n",
       "    </tr>\n",
       "    <tr>\n",
       "      <th>9</th>\n",
       "      <td>Pool Table</td>\n",
       "      <td>07</td>\n",
       "      <td>103</td>\n",
       "    </tr>\n",
       "    <tr>\n",
       "      <th>10</th>\n",
       "      <td>Pool Table</td>\n",
       "      <td>08</td>\n",
       "      <td>272</td>\n",
       "    </tr>\n",
       "    <tr>\n",
       "      <th>11</th>\n",
       "      <td>Pool Table</td>\n",
       "      <td>09</td>\n",
       "      <td>408</td>\n",
       "    </tr>\n",
       "    <tr>\n",
       "      <th>12</th>\n",
       "      <td>Snooker Table</td>\n",
       "      <td>07</td>\n",
       "      <td>68</td>\n",
       "    </tr>\n",
       "    <tr>\n",
       "      <th>13</th>\n",
       "      <td>Snooker Table</td>\n",
       "      <td>08</td>\n",
       "      <td>154</td>\n",
       "    </tr>\n",
       "    <tr>\n",
       "      <th>14</th>\n",
       "      <td>Snooker Table</td>\n",
       "      <td>09</td>\n",
       "      <td>199</td>\n",
       "    </tr>\n",
       "    <tr>\n",
       "      <th>15</th>\n",
       "      <td>Squash Court</td>\n",
       "      <td>07</td>\n",
       "      <td>23</td>\n",
       "    </tr>\n",
       "    <tr>\n",
       "      <th>16</th>\n",
       "      <td>Squash Court</td>\n",
       "      <td>08</td>\n",
       "      <td>85</td>\n",
       "    </tr>\n",
       "    <tr>\n",
       "      <th>17</th>\n",
       "      <td>Squash Court</td>\n",
       "      <td>09</td>\n",
       "      <td>87</td>\n",
       "    </tr>\n",
       "    <tr>\n",
       "      <th>18</th>\n",
       "      <td>Table Tennis</td>\n",
       "      <td>07</td>\n",
       "      <td>48</td>\n",
       "    </tr>\n",
       "    <tr>\n",
       "      <th>19</th>\n",
       "      <td>Table Tennis</td>\n",
       "      <td>08</td>\n",
       "      <td>143</td>\n",
       "    </tr>\n",
       "    <tr>\n",
       "      <th>20</th>\n",
       "      <td>Table Tennis</td>\n",
       "      <td>09</td>\n",
       "      <td>194</td>\n",
       "    </tr>\n",
       "    <tr>\n",
       "      <th>21</th>\n",
       "      <td>Tennis Court 1</td>\n",
       "      <td>07</td>\n",
       "      <td>65</td>\n",
       "    </tr>\n",
       "    <tr>\n",
       "      <th>22</th>\n",
       "      <td>Tennis Court 1</td>\n",
       "      <td>08</td>\n",
       "      <td>111</td>\n",
       "    </tr>\n",
       "    <tr>\n",
       "      <th>23</th>\n",
       "      <td>Tennis Court 1</td>\n",
       "      <td>09</td>\n",
       "      <td>132</td>\n",
       "    </tr>\n",
       "    <tr>\n",
       "      <th>24</th>\n",
       "      <td>Tennis Court 2</td>\n",
       "      <td>07</td>\n",
       "      <td>41</td>\n",
       "    </tr>\n",
       "    <tr>\n",
       "      <th>25</th>\n",
       "      <td>Tennis Court 2</td>\n",
       "      <td>08</td>\n",
       "      <td>109</td>\n",
       "    </tr>\n",
       "    <tr>\n",
       "      <th>26</th>\n",
       "      <td>Tennis Court 2</td>\n",
       "      <td>09</td>\n",
       "      <td>126</td>\n",
       "    </tr>\n",
       "  </tbody>\n",
       "</table>\n",
       "</div>"
      ],
      "text/plain": [
       "      facility_name month  monthly_use\n",
       "0   Badminton Court    07           51\n",
       "1   Badminton Court    08          132\n",
       "2   Badminton Court    09          161\n",
       "3    Massage Room 1    07           77\n",
       "4    Massage Room 1    08          153\n",
       "5    Massage Room 1    09          191\n",
       "6    Massage Room 2    07            4\n",
       "7    Massage Room 2    08            9\n",
       "8    Massage Room 2    09           14\n",
       "9        Pool Table    07          103\n",
       "10       Pool Table    08          272\n",
       "11       Pool Table    09          408\n",
       "12    Snooker Table    07           68\n",
       "13    Snooker Table    08          154\n",
       "14    Snooker Table    09          199\n",
       "15     Squash Court    07           23\n",
       "16     Squash Court    08           85\n",
       "17     Squash Court    09           87\n",
       "18     Table Tennis    07           48\n",
       "19     Table Tennis    08          143\n",
       "20     Table Tennis    09          194\n",
       "21   Tennis Court 1    07           65\n",
       "22   Tennis Court 1    08          111\n",
       "23   Tennis Court 1    09          132\n",
       "24   Tennis Court 2    07           41\n",
       "25   Tennis Court 2    08          109\n",
       "26   Tennis Court 2    09          126"
      ]
     },
     "execution_count": 96,
     "metadata": {},
     "output_type": "execute_result"
    }
   ],
   "source": [
    "rs"
   ]
  }
 ],
 "metadata": {
  "kernelspec": {
   "display_name": "springboard",
   "language": "python",
   "name": "springboard"
  },
  "language_info": {
   "codemirror_mode": {
    "name": "ipython",
    "version": 3
   },
   "file_extension": ".py",
   "mimetype": "text/x-python",
   "name": "python",
   "nbconvert_exporter": "python",
   "pygments_lexer": "ipython3",
   "version": "3.8.2"
  },
  "toc": {
   "base_numbering": 1,
   "nav_menu": {},
   "number_sections": true,
   "sideBar": true,
   "skip_h1_title": false,
   "title_cell": "Table of Contents",
   "title_sidebar": "Contents",
   "toc_cell": false,
   "toc_position": {},
   "toc_section_display": true,
   "toc_window_display": false
  }
 },
 "nbformat": 4,
 "nbformat_minor": 4
}
