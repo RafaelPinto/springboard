{
 "cells": [
  {
   "cell_type": "markdown",
   "metadata": {},
   "source": [
    "## Python statistics essential training - 04_06_challenge"
   ]
  },
  {
   "cell_type": "markdown",
   "metadata": {},
   "source": [
    "Standard imports"
   ]
  },
  {
   "cell_type": "code",
   "execution_count": 1,
   "metadata": {
    "ExecuteTime": {
     "end_time": "2020-09-06T15:52:13.307667Z",
     "start_time": "2020-09-06T15:52:13.302427Z"
    }
   },
   "outputs": [],
   "source": [
    "import math\n",
    "import io"
   ]
  },
  {
   "cell_type": "code",
   "execution_count": 2,
   "metadata": {
    "ExecuteTime": {
     "end_time": "2020-09-06T15:52:13.796952Z",
     "start_time": "2020-09-06T15:52:13.315835Z"
    }
   },
   "outputs": [],
   "source": [
    "import numpy as np\n",
    "import pandas as pd\n",
    "\n",
    "import matplotlib\n",
    "import matplotlib.pyplot as pp\n",
    "\n",
    "%matplotlib inline"
   ]
  },
  {
   "cell_type": "code",
   "execution_count": 3,
   "metadata": {
    "ExecuteTime": {
     "end_time": "2020-09-06T15:52:14.030824Z",
     "start_time": "2020-09-06T15:52:13.799031Z"
    }
   },
   "outputs": [],
   "source": [
    "import scipy.stats\n",
    "import scipy.optimize\n",
    "import scipy.spatial"
   ]
  },
  {
   "cell_type": "markdown",
   "metadata": {},
   "source": [
    "# Challenge\n",
    "\n",
    "Using bootstrapping on a polling data for Mayor Green's grades, estimate the confidence interval for the fraction of citizens that give her a passing grade: defined as more than five"
   ]
  },
  {
   "cell_type": "markdown",
   "metadata": {},
   "source": [
    "## Using solution's approach"
   ]
  },
  {
   "cell_type": "code",
   "execution_count": 4,
   "metadata": {
    "ExecuteTime": {
     "end_time": "2020-09-06T15:52:14.039514Z",
     "start_time": "2020-09-06T15:52:14.033751Z"
    }
   },
   "outputs": [],
   "source": [
    "pop = pd.read_csv('../04_03/grades.csv')"
   ]
  },
  {
   "cell_type": "code",
   "execution_count": 5,
   "metadata": {
    "ExecuteTime": {
     "end_time": "2020-09-06T15:52:14.234839Z",
     "start_time": "2020-09-06T15:52:14.042205Z"
    }
   },
   "outputs": [
    {
     "data": {
      "image/png": "[encoded data removed]",
      "text/plain": [
       "<Figure size 432x288 with 1 Axes>"
      ]
     },
     "metadata": {
      "needs_background": "light"
     },
     "output_type": "display_data"
    }
   ],
   "source": [
    "_ = pop.grade.hist(histtype='step')"
   ]
  },
  {
   "cell_type": "code",
   "execution_count": 6,
   "metadata": {
    "ExecuteTime": {
     "end_time": "2020-09-06T15:52:14.240978Z",
     "start_time": "2020-09-06T15:52:14.236977Z"
    }
   },
   "outputs": [
    {
     "data": {
      "text/plain": [
       "43.0"
      ]
     },
     "execution_count": 6,
     "metadata": {},
     "output_type": "execute_result"
    }
   ],
   "source": [
    "scipy.stats.percentileofscore(pop.grade, 5)"
   ]
  },
  {
   "cell_type": "code",
   "execution_count": 7,
   "metadata": {
    "ExecuteTime": {
     "end_time": "2020-09-06T15:52:14.250157Z",
     "start_time": "2020-09-06T15:52:14.242903Z"
    }
   },
   "outputs": [
    {
     "data": {
      "text/plain": [
       "79    5.186680\n",
       "57    3.784574\n",
       "83    8.351605\n",
       "58    3.536306\n",
       "66    2.795256\n",
       "        ...   \n",
       "20    3.036285\n",
       "26    4.446377\n",
       "45    3.525235\n",
       "63    7.687033\n",
       "9     5.754509\n",
       "Name: grade, Length: 100, dtype: float64"
      ]
     },
     "execution_count": 7,
     "metadata": {},
     "output_type": "execute_result"
    }
   ],
   "source": [
    "pop.sample(100, replace=True).grade"
   ]
  },
  {
   "cell_type": "markdown",
   "metadata": {},
   "source": [
    "`scipy.stats.percentileofscore` returns the percentile rank of a score relative to a list of scores. A `percentileofscore` of, for example, 80% means that 80% of the scores in `a` (a list of scores) are below the given score.\n",
    "\n",
    "Since we are interested in the approval rating, we want the percent of the sample that is above (more than) the given score (5), thus we get the complement of the `percentileofscore` with : 100 - `percentileofscore`"
   ]
  },
  {
   "cell_type": "code",
   "execution_count": 8,
   "metadata": {
    "ExecuteTime": {
     "end_time": "2020-09-06T15:52:14.829063Z",
     "start_time": "2020-09-06T15:52:14.252812Z"
    }
   },
   "outputs": [],
   "source": [
    "bootstrap = pd.DataFrame({'passing': (100 - scipy.stats.percentileofscore(pop.sample(100, replace=True).grade, 5)\n",
    "                           for i in range(1000))})"
   ]
  },
  {
   "cell_type": "code",
   "execution_count": 9,
   "metadata": {
    "ExecuteTime": {
     "end_time": "2020-09-06T15:52:17.893141Z",
     "start_time": "2020-09-06T15:52:17.679434Z"
    }
   },
   "outputs": [
    {
     "data": {
      "image/png": "[encoded data removed]",
      "text/plain": [
       "<Figure size 432x288 with 1 Axes>"
      ]
     },
     "metadata": {
      "needs_background": "light"
     },
     "output_type": "display_data"
    }
   ],
   "source": [
    "_ = bootstrap.passing.hist(histtype='step')"
   ]
  },
  {
   "cell_type": "code",
   "execution_count": 10,
   "metadata": {
    "ExecuteTime": {
     "end_time": "2020-09-06T15:52:23.646571Z",
     "start_time": "2020-09-06T15:52:23.627247Z"
    }
   },
   "outputs": [
    {
     "data": {
      "text/plain": [
       "(47.0, 67.0)"
      ]
     },
     "execution_count": 10,
     "metadata": {},
     "output_type": "execute_result"
    }
   ],
   "source": [
    "bootstrap.passing.quantile(0.025), bootstrap.passing.quantile(0.975)"
   ]
  },
  {
   "cell_type": "markdown",
   "metadata": {},
   "source": [
    "## Using approach from CI lesson"
   ]
  },
  {
   "cell_type": "code",
   "execution_count": 12,
   "metadata": {
    "ExecuteTime": {
     "end_time": "2020-09-06T15:54:10.720356Z",
     "start_time": "2020-09-06T15:54:10.704710Z"
    },
    "scrolled": true
   },
   "outputs": [
    {
     "data": {
      "text/plain": [
       "0.57"
      ]
     },
     "execution_count": 12,
     "metadata": {},
     "output_type": "execute_result"
    }
   ],
   "source": [
    "sum(pop.grade > 5) / len(pop)"
   ]
  },
  {
   "cell_type": "code",
   "execution_count": 13,
   "metadata": {
    "ExecuteTime": {
     "end_time": "2020-09-06T15:54:11.940654Z",
     "start_time": "2020-09-06T15:54:11.936878Z"
    }
   },
   "outputs": [],
   "source": [
    "def sample(approval_rating, n=100):\n",
    "    return pd.DataFrame({'rating': np.where(np.random.rand(n) < approval_rating, 'Pass', 'Fail')})"
   ]
  },
  {
   "cell_type": "code",
   "execution_count": 14,
   "metadata": {
    "ExecuteTime": {
     "end_time": "2020-09-06T15:54:32.477194Z",
     "start_time": "2020-09-06T15:54:32.473353Z"
    }
   },
   "outputs": [],
   "source": [
    "s = sample(0.57, 100)"
   ]
  },
  {
   "cell_type": "code",
   "execution_count": 15,
   "metadata": {
    "ExecuteTime": {
     "end_time": "2020-09-06T15:54:36.963044Z",
     "start_time": "2020-09-06T15:54:36.945886Z"
    }
   },
   "outputs": [
    {
     "data": {
      "text/plain": [
       "Pass    0.6\n",
       "Fail    0.4\n",
       "Name: rating, dtype: float64"
      ]
     },
     "execution_count": 15,
     "metadata": {},
     "output_type": "execute_result"
    }
   ],
   "source": [
    "s.rating.value_counts(normalize=True)"
   ]
  },
  {
   "cell_type": "code",
   "execution_count": 16,
   "metadata": {
    "ExecuteTime": {
     "end_time": "2020-09-06T15:55:32.773781Z",
     "start_time": "2020-09-06T15:55:32.761145Z"
    }
   },
   "outputs": [],
   "source": [
    "def samplingdist(approval_rating, n=100):\n",
    "    return pd.DataFrame((sample(approval_rating, n).rating.value_counts(normalize=True) for i in range(1000)))"
   ]
  },
  {
   "cell_type": "code",
   "execution_count": 17,
   "metadata": {
    "ExecuteTime": {
     "end_time": "2020-09-06T15:55:33.361406Z",
     "start_time": "2020-09-06T15:55:33.338912Z"
    }
   },
   "outputs": [],
   "source": [
    "def quantiles(approval_rating, n=100):\n",
    "    dist = samplingdist(approval_rating, n)\n",
    "    return dist.Pass.quantile(0.025), dist.Pass.quantile(0.975)"
   ]
  },
  {
   "cell_type": "code",
   "execution_count": 18,
   "metadata": {
    "ExecuteTime": {
     "end_time": "2020-09-06T15:55:35.290139Z",
     "start_time": "2020-09-06T15:55:33.826989Z"
    }
   },
   "outputs": [
    {
     "data": {
      "text/plain": [
       "(0.38, 0.57)"
      ]
     },
     "execution_count": 18,
     "metadata": {},
     "output_type": "execute_result"
    }
   ],
   "source": [
    "quantiles(0.47)"
   ]
  },
  {
   "cell_type": "code",
   "execution_count": 19,
   "metadata": {
    "ExecuteTime": {
     "end_time": "2020-09-06T15:55:36.806716Z",
     "start_time": "2020-09-06T15:55:35.292303Z"
    }
   },
   "outputs": [
    {
     "data": {
      "text/plain": [
       "(0.56975, 0.75)"
      ]
     },
     "execution_count": 19,
     "metadata": {},
     "output_type": "execute_result"
    }
   ],
   "source": [
    "quantiles(0.66)"
   ]
  },
  {
   "cell_type": "markdown",
   "metadata": {},
   "source": [
    "The confidence interval is [0.47, 0.66] at a 95% confidence interval."
   ]
  }
 ],
 "metadata": {
  "kernelspec": {
   "display_name": "Python 3",
   "language": "python",
   "name": "python3"
  },
  "language_info": {
   "codemirror_mode": {
    "name": "ipython",
    "version": 3
   },
   "file_extension": ".py",
   "mimetype": "text/x-python",
   "name": "python",
   "nbconvert_exporter": "python",
   "pygments_lexer": "ipython3",
   "version": "3.8.2"
  },
  "toc": {
   "base_numbering": 1,
   "nav_menu": {},
   "number_sections": true,
   "sideBar": true,
   "skip_h1_title": false,
   "title_cell": "Table of Contents",
   "title_sidebar": "Contents",
   "toc_cell": false,
   "toc_position": {},
   "toc_section_display": true,
   "toc_window_display": false
  }
 },
 "nbformat": 4,
 "nbformat_minor": 2
}
