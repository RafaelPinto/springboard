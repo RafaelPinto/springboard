{
 "cells": [
  {
   "cell_type": "markdown",
   "metadata": {},
   "source": [
    "## Python statistics essential training - 04_06_challenge"
   ]
  },
  {
   "cell_type": "markdown",
   "metadata": {},
   "source": [
    "Standard imports"
   ]
  },
  {
   "cell_type": "code",
   "execution_count": 1,
   "metadata": {
    "ExecuteTime": {
     "end_time": "2020-09-02T09:27:36.874127Z",
     "start_time": "2020-09-02T09:27:36.866152Z"
    }
   },
   "outputs": [],
   "source": [
    "import math\n",
    "import io"
   ]
  },
  {
   "cell_type": "code",
   "execution_count": 2,
   "metadata": {
    "ExecuteTime": {
     "end_time": "2020-09-02T09:27:44.340508Z",
     "start_time": "2020-09-02T09:27:37.179319Z"
    }
   },
   "outputs": [],
   "source": [
    "import numpy as np\n",
    "import pandas as pd\n",
    "\n",
    "import matplotlib\n",
    "import matplotlib.pyplot as pp\n",
    "\n",
    "%matplotlib inline"
   ]
  },
  {
   "cell_type": "code",
   "execution_count": 3,
   "metadata": {
    "ExecuteTime": {
     "end_time": "2020-09-02T09:27:47.704215Z",
     "start_time": "2020-09-02T09:27:44.347336Z"
    }
   },
   "outputs": [],
   "source": [
    "import scipy.stats\n",
    "import scipy.optimize\n",
    "import scipy.spatial"
   ]
  },
  {
   "attachments": {},
   "cell_type": "markdown",
   "metadata": {},
   "source": [
    "# Challenge\n",
    "\n",
    "Using bootstrapping on a polling data for Mayor Green's grades, estimate the confidence interval for the fraction of citizens that give her a passing grade: defined as more than five"
   ]
  },
  {
   "cell_type": "markdown",
   "metadata": {},
   "source": [
    "## Using solution's approach"
   ]
  },
  {
   "cell_type": "code",
   "execution_count": 5,
   "metadata": {
    "ExecuteTime": {
     "end_time": "2020-09-02T09:28:53.496253Z",
     "start_time": "2020-09-02T09:28:53.331695Z"
    }
   },
   "outputs": [],
   "source": [
    "pop = pd.read_csv('grades.csv')"
   ]
  },
  {
   "cell_type": "code",
   "execution_count": 39,
   "metadata": {
    "ExecuteTime": {
     "end_time": "2020-09-02T09:58:13.693219Z",
     "start_time": "2020-09-02T09:58:12.945074Z"
    }
   },
   "outputs": [
    {
     "data": {
      "text/plain": [
       "<AxesSubplot:>"
      ]
     },
     "execution_count": 39,
     "metadata": {},
     "output_type": "execute_result"
    },
    {
     "data": {
      "image/png": "[encoded data removed]",
      "text/plain": [
       "<Figure size 432x288 with 1 Axes>"
      ]
     },
     "metadata": {
      "needs_background": "light"
     },
     "output_type": "display_data"
    }
   ],
   "source": [
    "pop.grade.hist(histtype='step')"
   ]
  },
  {
   "cell_type": "code",
   "execution_count": 40,
   "metadata": {
    "ExecuteTime": {
     "end_time": "2020-09-02T09:59:00.007308Z",
     "start_time": "2020-09-02T09:58:59.990352Z"
    }
   },
   "outputs": [
    {
     "data": {
      "text/plain": [
       "43.0"
      ]
     },
     "execution_count": 40,
     "metadata": {},
     "output_type": "execute_result"
    }
   ],
   "source": [
    "scipy.stats.percentileofscore(pop.grade, 5)"
   ]
  },
  {
   "cell_type": "code",
   "execution_count": 48,
   "metadata": {
    "ExecuteTime": {
     "end_time": "2020-09-02T10:07:20.037148Z",
     "start_time": "2020-09-02T10:07:19.627819Z"
    }
   },
   "outputs": [],
   "source": [
    "bootstrap = pd.DataFrame({'passing': (100 - scipy.stats.percentileofscore(pop.sample(100, replace=True).grade, 5)\n",
    "                           for i in range(1000))})"
   ]
  },
  {
   "cell_type": "code",
   "execution_count": 49,
   "metadata": {
    "ExecuteTime": {
     "end_time": "2020-09-02T10:07:20.785497Z",
     "start_time": "2020-09-02T10:07:20.482309Z"
    }
   },
   "outputs": [
    {
     "data": {
      "text/plain": [
       "<AxesSubplot:>"
      ]
     },
     "execution_count": 49,
     "metadata": {},
     "output_type": "execute_result"
    },
    {
     "data": {
      "image/png": "[encoded data removed]",
      "text/plain": [
       "<Figure size 432x288 with 1 Axes>"
      ]
     },
     "metadata": {
      "needs_background": "light"
     },
     "output_type": "display_data"
    }
   ],
   "source": [
    "bootstrap.passing.hist(histtype='step')"
   ]
  },
  {
   "cell_type": "code",
   "execution_count": 50,
   "metadata": {
    "ExecuteTime": {
     "end_time": "2020-09-02T10:07:21.355992Z",
     "start_time": "2020-09-02T10:07:21.327067Z"
    }
   },
   "outputs": [
    {
     "data": {
      "text/plain": [
       "(47.0, 67.0)"
      ]
     },
     "execution_count": 50,
     "metadata": {},
     "output_type": "execute_result"
    }
   ],
   "source": [
    "bootstrap.passing.quantile(0.025), bootstrap.passing.quantile(0.975)"
   ]
  },
  {
   "cell_type": "markdown",
   "metadata": {},
   "source": [
    "## Using approach from CI lesson"
   ]
  },
  {
   "cell_type": "code",
   "execution_count": 9,
   "metadata": {
    "ExecuteTime": {
     "end_time": "2020-09-02T09:30:02.028988Z",
     "start_time": "2020-09-02T09:30:02.006051Z"
    },
    "scrolled": true
   },
   "outputs": [
    {
     "data": {
      "text/plain": [
       "0.57"
      ]
     },
     "execution_count": 9,
     "metadata": {},
     "output_type": "execute_result"
    }
   ],
   "source": [
    "sum(pop.grade > 5) / len(pop)"
   ]
  },
  {
   "cell_type": "code",
   "execution_count": 51,
   "metadata": {
    "ExecuteTime": {
     "end_time": "2020-09-02T10:10:37.989126Z",
     "start_time": "2020-09-02T10:10:37.975163Z"
    }
   },
   "outputs": [],
   "source": [
    "def sample(approval_rating, n=1000):\n",
    "    return pd.DataFrame({'rating': np.where(np.random.rand(n) < approval_rating, 'Pass', 'Fail')})"
   ]
  },
  {
   "cell_type": "code",
   "execution_count": 52,
   "metadata": {
    "ExecuteTime": {
     "end_time": "2020-09-02T10:10:38.640087Z",
     "start_time": "2020-09-02T10:10:38.624133Z"
    }
   },
   "outputs": [],
   "source": [
    "s = sample(0.57, 1000)"
   ]
  },
  {
   "cell_type": "code",
   "execution_count": 53,
   "metadata": {
    "ExecuteTime": {
     "end_time": "2020-09-02T10:10:39.981093Z",
     "start_time": "2020-09-02T10:10:39.971120Z"
    }
   },
   "outputs": [
    {
     "data": {
      "text/plain": [
       "Pass    0.543\n",
       "Fail    0.457\n",
       "Name: rating, dtype: float64"
      ]
     },
     "execution_count": 53,
     "metadata": {},
     "output_type": "execute_result"
    }
   ],
   "source": [
    "s.rating.value_counts(normalize=True)"
   ]
  },
  {
   "cell_type": "code",
   "execution_count": 54,
   "metadata": {
    "ExecuteTime": {
     "end_time": "2020-09-02T10:10:41.202856Z",
     "start_time": "2020-09-02T10:10:41.189891Z"
    }
   },
   "outputs": [],
   "source": [
    "def samplingdist(approval_rating, n=1000):\n",
    "    return pd.DataFrame((sample(approval_rating, n).rating.value_counts(normalize=True) for i in range(1000)))"
   ]
  },
  {
   "cell_type": "code",
   "execution_count": 55,
   "metadata": {
    "ExecuteTime": {
     "end_time": "2020-09-02T10:10:42.134016Z",
     "start_time": "2020-09-02T10:10:42.121049Z"
    }
   },
   "outputs": [],
   "source": [
    "def quantiles(approval_rating, n=1000):\n",
    "    dist = samplingdist(approval_rating, n)\n",
    "    return dist.Pass.quantile(0.025), dist.Pass.quantile(0.975)"
   ]
  },
  {
   "cell_type": "code",
   "execution_count": 56,
   "metadata": {
    "ExecuteTime": {
     "end_time": "2020-09-02T10:10:44.087121Z",
     "start_time": "2020-09-02T10:10:42.755646Z"
    }
   },
   "outputs": [
    {
     "data": {
      "text/plain": [
       "(0.509, 0.5710249999999999)"
      ]
     },
     "execution_count": 56,
     "metadata": {},
     "output_type": "execute_result"
    }
   ],
   "source": [
    "quantiles(0.54)"
   ]
  },
  {
   "cell_type": "code",
   "execution_count": 57,
   "metadata": {
    "ExecuteTime": {
     "end_time": "2020-09-02T10:10:47.661061Z",
     "start_time": "2020-09-02T10:10:46.195910Z"
    }
   },
   "outputs": [
    {
     "data": {
      "text/plain": [
       "(0.57, 0.630025)"
      ]
     },
     "execution_count": 57,
     "metadata": {},
     "output_type": "execute_result"
    }
   ],
   "source": [
    "quantiles(0.60)"
   ]
  },
  {
   "cell_type": "markdown",
   "metadata": {},
   "source": [
    "The confidence interval is [0.51, 0.63] at a 95% confidence interval."
   ]
  },
  {
   "cell_type": "markdown",
   "metadata": {},
   "source": [
    "# Why did the instructor worked on the \"fail\" instead of the \"passing\" grade?\n",
    "\n",
    "# Is my adaptation of the solution (100 - ...) correct?\n",
    "\n",
    "# Why are the CI so different? [0.51, 0.63] vs [0.47, 0.67]"
   ]
  },
  {
   "cell_type": "code",
   "execution_count": null,
   "metadata": {},
   "outputs": [],
   "source": []
  }
 ],
 "metadata": {
  "kernelspec": {
   "display_name": "Python 3",
   "language": "python",
   "name": "python3"
  },
  "language_info": {
   "codemirror_mode": {
    "name": "ipython",
    "version": 3
   },
   "file_extension": ".py",
   "mimetype": "text/x-python",
   "name": "python",
   "nbconvert_exporter": "python",
   "pygments_lexer": "ipython3",
   "version": "3.8.5"
  },
  "toc": {
   "base_numbering": 1,
   "nav_menu": {},
   "number_sections": true,
   "sideBar": true,
   "skip_h1_title": false,
   "title_cell": "Table of Contents",
   "title_sidebar": "Contents",
   "toc_cell": false,
   "toc_position": {},
   "toc_section_display": true,
   "toc_window_display": false
  }
 },
 "nbformat": 4,
 "nbformat_minor": 2
}
