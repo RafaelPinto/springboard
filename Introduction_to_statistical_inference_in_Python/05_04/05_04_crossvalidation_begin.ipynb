{
 "cells": [
  {
   "cell_type": "markdown",
   "metadata": {},
   "source": [
    "## Python statistics essential training - 05_04_crossvalidation"
   ]
  },
  {
   "cell_type": "markdown",
   "metadata": {},
   "source": [
    "In the last video we saw a few classical analytics have it techniques to have it with goodness of fit, and to compare models based on their explanatory power and simplicity. Now I want to show you how to implement a much simpler strategy known as Cross Validation, which is used in machine learning to compare models.\n",
    "\n",
    "![Cross Validation diagram](crossvalidation.png \"Cross Validation\")\n",
    "\n",
    "We divide the data into a training set which we use to feed the model, and a testing set which we use to evaluate the models prediction error. So instead of concentrating on in-sample error as we do with classical techniques, we will look at how to sample prediction error. Models then can't look better by over fitting the data they're trained on. Instead they need to, in some sense, understand something about the world.\n",
    "\n",
    "I have all ready included code to load our data set. I import packages."
   ]
  },
  {
   "cell_type": "markdown",
   "metadata": {},
   "source": [
    "Standard imports"
   ]
  },
  {
   "cell_type": "code",
   "execution_count": 1,
   "metadata": {
    "ExecuteTime": {
     "end_time": "2020-09-02T22:55:33.754765Z",
     "start_time": "2020-09-02T22:55:33.740800Z"
    }
   },
   "outputs": [],
   "source": [
    "import math"
   ]
  },
  {
   "cell_type": "code",
   "execution_count": 2,
   "metadata": {
    "ExecuteTime": {
     "end_time": "2020-09-02T22:55:38.105597Z",
     "start_time": "2020-09-02T22:55:34.243824Z"
    }
   },
   "outputs": [],
   "source": [
    "import numpy as np\n",
    "import pandas as pd"
   ]
  },
  {
   "cell_type": "code",
   "execution_count": 3,
   "metadata": {
    "ExecuteTime": {
     "end_time": "2020-09-02T22:55:40.103694Z",
     "start_time": "2020-09-02T22:55:38.108593Z"
    }
   },
   "outputs": [],
   "source": [
    "import matplotlib\n",
    "import matplotlib.pyplot as pp"
   ]
  },
  {
   "cell_type": "code",
   "execution_count": 4,
   "metadata": {
    "ExecuteTime": {
     "end_time": "2020-09-02T22:55:40.120609Z",
     "start_time": "2020-09-02T22:55:40.108642Z"
    }
   },
   "outputs": [],
   "source": [
    "%matplotlib inline"
   ]
  },
  {
   "cell_type": "code",
   "execution_count": 5,
   "metadata": {
    "ExecuteTime": {
     "end_time": "2020-09-02T22:55:44.208174Z",
     "start_time": "2020-09-02T22:55:40.124599Z"
    }
   },
   "outputs": [],
   "source": [
    "import statsmodels\n",
    "import statsmodels.api as sm\n",
    "import statsmodels.formula.api as smf"
   ]
  },
  {
   "cell_type": "markdown",
   "metadata": {},
   "source": [
    "Loading gapminder data for year 1985 (Live Aid!)."
   ]
  },
  {
   "cell_type": "code",
   "execution_count": 6,
   "metadata": {
    "ExecuteTime": {
     "end_time": "2020-09-02T22:55:45.113128Z",
     "start_time": "2020-09-02T22:55:44.215165Z"
    }
   },
   "outputs": [],
   "source": [
    "gapminder = pd.read_csv('gapminder.csv')"
   ]
  },
  {
   "cell_type": "code",
   "execution_count": 7,
   "metadata": {
    "ExecuteTime": {
     "end_time": "2020-09-02T22:55:45.904625Z",
     "start_time": "2020-09-02T22:55:45.714787Z"
    }
   },
   "outputs": [],
   "source": [
    "gdata = gapminder.query('year == 1985')"
   ]
  },
  {
   "cell_type": "markdown",
   "metadata": {},
   "source": [
    "Refactored plotting so that it works on arbitrary datasets."
   ]
  },
  {
   "cell_type": "code",
   "execution_count": 8,
   "metadata": {
    "ExecuteTime": {
     "end_time": "2020-09-02T22:55:47.060015Z",
     "start_time": "2020-09-02T22:55:47.021121Z"
    }
   },
   "outputs": [],
   "source": [
    "def sc(data):\n",
    "    return 1e-6 * data.population, data.region.map({'Africa': 'skyblue', 'Europe': 'gold',\n",
    "                                                   'America': 'palegreen', 'Asia': 'coral'})\n",
    "\n",
    "def plotdata(data=gdata):\n",
    "    size, colors = sc(data)\n",
    "    data.plot.scatter('age5_surviving','babies_per_woman',\n",
    "                      c=colors,s=size,linewidths=0.5,edgecolor='k',alpha=0.5)\n",
    "                      \n",
    "def plotfit(fit,data=gdata):\n",
    "    plotdata(data)\n",
    "\n",
    "    size, colors = sc(data)\n",
    "    pp.scatter(data.age5_surviving,fit.predict(data),\n",
    "               c=colors,s=30,linewidths=0.5,edgecolor='k',marker='D')"
   ]
  },
  {
   "cell_type": "markdown",
   "metadata": {},
   "source": [
    "Model formulas from the last two videos"
   ]
  },
  {
   "cell_type": "code",
   "execution_count": 9,
   "metadata": {
    "ExecuteTime": {
     "end_time": "2020-09-02T22:56:05.954637Z",
     "start_time": "2020-09-02T22:56:05.950647Z"
    }
   },
   "outputs": [],
   "source": [
    "f_groupmeans = 'babies_per_woman ~ -1 + region'\n",
    "f_surviving = 'babies_per_woman ~ -1 + region + age5_surviving'\n",
    "f_srp = ('babies_per_woman ~ -1 + region + age5_surviving'\n",
    "         '+ age5_surviving:region - age5_surviving + population')"
   ]
  },
  {
   "cell_type": "markdown",
   "metadata": {},
   "source": [
    "To divide up our data we first shuffle it with a Panda's data frame method sample. The resulting data search should be the same length as the original, and there is no replacement this time."
   ]
  },
  {
   "cell_type": "code",
   "execution_count": 10,
   "metadata": {
    "ExecuteTime": {
     "end_time": "2020-09-02T22:57:45.502802Z",
     "start_time": "2020-09-02T22:57:45.487845Z"
    }
   },
   "outputs": [],
   "source": [
    "shuffled = gdata.sample(len(gdata))"
   ]
  },
  {
   "cell_type": "markdown",
   "metadata": {},
   "source": [
    "Then we can use the Panda's locator `iloc` which goes by row number to divide the rows in two. Enter your division with a double slash and it shows I have a proper index."
   ]
  },
  {
   "cell_type": "code",
   "execution_count": 11,
   "metadata": {
    "ExecuteTime": {
     "end_time": "2020-09-02T23:00:00.165116Z",
     "start_time": "2020-09-02T23:00:00.160129Z"
    }
   },
   "outputs": [],
   "source": [
    "training, testing = shuffled.iloc[:len(gdata)//2], shuffled.iloc[len(gdata)//2:]"
   ]
  },
  {
   "cell_type": "markdown",
   "metadata": {},
   "source": [
    "We now fit the model to the training data. Using one of our formulas."
   ]
  },
  {
   "cell_type": "code",
   "execution_count": 12,
   "metadata": {
    "ExecuteTime": {
     "end_time": "2020-09-02T23:00:48.308189Z",
     "start_time": "2020-09-02T23:00:48.181527Z"
    }
   },
   "outputs": [],
   "source": [
    "surviving = smf.ols(f_surviving, data=training).fit()"
   ]
  },
  {
   "cell_type": "markdown",
   "metadata": {},
   "source": [
    "I plot the result."
   ]
  },
  {
   "cell_type": "code",
   "execution_count": 14,
   "metadata": {
    "ExecuteTime": {
     "end_time": "2020-09-02T23:01:33.893944Z",
     "start_time": "2020-09-02T23:01:33.416427Z"
    }
   },
   "outputs": [
    {
     "data": {
      "image/png": "[encoded data removed]",
      "text/plain": [
       "<Figure size 432x288 with 1 Axes>"
      ]
     },
     "metadata": {
      "needs_background": "light"
     },
     "output_type": "display_data"
    }
   ],
   "source": [
    "plotfit(surviving, training)"
   ]
  },
  {
   "cell_type": "markdown",
   "metadata": {},
   "source": [
    "The in-sample mean square error is 1.02."
   ]
  },
  {
   "cell_type": "code",
   "execution_count": 16,
   "metadata": {
    "ExecuteTime": {
     "end_time": "2020-09-02T23:03:04.027256Z",
     "start_time": "2020-09-02T23:03:04.017278Z"
    }
   },
   "outputs": [
    {
     "data": {
      "text/plain": [
       "1.0118014874770132"
      ]
     },
     "execution_count": 16,
     "metadata": {},
     "output_type": "execute_result"
    }
   ],
   "source": [
    "surviving.mse_resid"
   ]
  },
  {
   "cell_type": "markdown",
   "metadata": {},
   "source": [
    "We now tryout the model on the testing data. Plotfit contains a call to stats model predict we generate a moderate response for this particular data set."
   ]
  },
  {
   "cell_type": "code",
   "execution_count": 17,
   "metadata": {
    "ExecuteTime": {
     "end_time": "2020-09-02T23:04:00.225041Z",
     "start_time": "2020-09-02T23:03:59.895926Z"
    }
   },
   "outputs": [
    {
     "data": {
      "image/png": "[encoded data removed]",
      "text/plain": [
       "<Figure size 432x288 with 1 Axes>"
      ]
     },
     "metadata": {
      "needs_background": "light"
     },
     "output_type": "display_data"
    }
   ],
   "source": [
    "plotfit(surviving, testing)"
   ]
  },
  {
   "cell_type": "markdown",
   "metadata": {},
   "source": [
    "We see the data points are different, but the fit is comparable.\n",
    "\n",
    "To obtain the mean square there we need to do a little work. We first:\n",
    "\n",
    "- Compute the residuals by apply model prediction to the testing data set\n",
    "- We subtract the observe data\n",
    "- Then we compute the number of degrees of freedom, which is the length of the data, minus the number of parameters in the model, minus one since the number of parameters doesn't count the constant, but we should\n",
    "- Finally, we square up the residuals, sum them, and divide by the number of degrees of freedom."
   ]
  },
  {
   "cell_type": "code",
   "execution_count": 18,
   "metadata": {
    "ExecuteTime": {
     "end_time": "2020-09-02T23:08:28.253579Z",
     "start_time": "2020-09-02T23:08:28.215686Z"
    }
   },
   "outputs": [
    {
     "data": {
      "text/plain": [
       "0.9572173793191341"
      ]
     },
     "execution_count": 18,
     "metadata": {},
     "output_type": "execute_result"
    }
   ],
   "source": [
    "resid = surviving.predict(testing) - testing.babies_per_woman\n",
    "df = len(testing) - surviving.df_model - 1\n",
    "np.sum(resid**2 / df)"
   ]
  },
  {
   "cell_type": "markdown",
   "metadata": {},
   "source": [
    "The mean square error on the testing data is a little higher since now there's no overfitting.\n",
    "\n",
    "So let's automate this procedure and use it on the three models. Since the results depend on the shuffling and are rather noisy, we'll repeat a few times and take the average.\n",
    "\n",
    "So I'll make a function that is generic in terms of the formula, of the response variable that we're looking at, and of the number of repetitions."
   ]
  },
  {
   "cell_type": "code",
   "execution_count": 19,
   "metadata": {
    "ExecuteTime": {
     "end_time": "2020-09-02T23:30:02.021856Z",
     "start_time": "2020-09-02T23:30:01.998910Z"
    }
   },
   "outputs": [],
   "source": [
    "def cross_validate(data, formula, response, n=100):\n",
    "    ret = []\n",
    "    \n",
    "    #  We repeat n times\n",
    "    for i in range(n):\n",
    "        # Shuffle\n",
    "        shuffled = data.sample(len(data))\n",
    "        \n",
    "        # Split the data into training and testing sets\n",
    "        training, testing = shuffled.iloc[:len(data)//2], shuffled.iloc[len(data)//2:]\n",
    "        \n",
    "        # Train the model\n",
    "        trained = smf.ols(formula, data=training).fit()\n",
    "        \n",
    "        # Compute the mean square error\n",
    "        resid = trained.predict(testing) - testing[response]\n",
    "        df = len(testing) - trained.df_model - 1\n",
    "        mse = np.sum(resid**2 / df)\n",
    "        \n",
    "        # Collect all mse in a Python list\n",
    "        ret.append(mse)\n",
    "    \n",
    "    # Return mse average\n",
    "    return np.mean(ret)"
   ]
  },
  {
   "cell_type": "markdown",
   "metadata": {},
   "source": [
    "Let's try this out."
   ]
  },
  {
   "cell_type": "code",
   "execution_count": 21,
   "metadata": {
    "ExecuteTime": {
     "end_time": "2020-09-02T23:31:01.016211Z",
     "start_time": "2020-09-02T23:31:00.219254Z"
    }
   },
   "outputs": [
    {
     "data": {
      "text/plain": [
       "1.6067353640938902"
      ]
     },
     "execution_count": 21,
     "metadata": {},
     "output_type": "execute_result"
    }
   ],
   "source": [
    "cross_validate(gdata, f_groupmeans, 'babies_per_woman')"
   ]
  },
  {
   "cell_type": "code",
   "execution_count": 22,
   "metadata": {
    "ExecuteTime": {
     "end_time": "2020-09-02T23:31:20.550372Z",
     "start_time": "2020-09-02T23:31:19.306956Z"
    }
   },
   "outputs": [
    {
     "data": {
      "text/plain": [
       "1.0428051846271433"
      ]
     },
     "execution_count": 22,
     "metadata": {},
     "output_type": "execute_result"
    }
   ],
   "source": [
    "cross_validate(gdata, f_surviving, 'babies_per_woman')"
   ]
  },
  {
   "cell_type": "code",
   "execution_count": 23,
   "metadata": {
    "ExecuteTime": {
     "end_time": "2020-09-02T23:31:37.338798Z",
     "start_time": "2020-09-02T23:31:35.994982Z"
    }
   },
   "outputs": [
    {
     "data": {
      "text/plain": [
       "1.231802082205379"
      ]
     },
     "execution_count": 23,
     "metadata": {},
     "output_type": "execute_result"
    }
   ],
   "source": [
    "cross_validate(gdata, f_srp, 'babies_per_woman')"
   ]
  },
  {
   "cell_type": "markdown",
   "metadata": {},
   "source": [
    "Cross validation confirms the verdict of analytical goodness of fit measures. The model of intermediate complexity seems to hit the sweet spot in terms of explanatory power. In the real world, all data analysts use k-fold cross-validation instead of dividing the data in two we divide it in k subsets, and then in k successive trials we hold out one of the subsets for testing and trains on all the rest. Finally, the k resulting models are averaged. k-fold cross validation is supported in the Python package scikit-learn."
   ]
  }
 ],
 "metadata": {
  "kernelspec": {
   "display_name": "springboard",
   "language": "python",
   "name": "springboard"
  },
  "language_info": {
   "codemirror_mode": {
    "name": "ipython",
    "version": 3
   },
   "file_extension": ".py",
   "mimetype": "text/x-python",
   "name": "python",
   "nbconvert_exporter": "python",
   "pygments_lexer": "ipython3",
   "version": "3.8.5"
  },
  "toc": {
   "base_numbering": 1,
   "nav_menu": {},
   "number_sections": true,
   "sideBar": true,
   "skip_h1_title": false,
   "title_cell": "Table of Contents",
   "title_sidebar": "Contents",
   "toc_cell": false,
   "toc_position": {},
   "toc_section_display": true,
   "toc_window_display": false
  }
 },
 "nbformat": 4,
 "nbformat_minor": 2
}
