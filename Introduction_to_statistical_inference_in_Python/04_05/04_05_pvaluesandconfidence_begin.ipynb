{
 "cells": [
  {
   "cell_type": "markdown",
   "metadata": {},
   "source": [
    "## Python statistics essential training - 04_05_pvaluesandconfidence"
   ]
  },
  {
   "cell_type": "markdown",
   "metadata": {},
   "source": [
    "Standard imports"
   ]
  },
  {
   "cell_type": "code",
   "execution_count": 1,
   "metadata": {
    "ExecuteTime": {
     "end_time": "2020-09-01T23:22:59.483505Z",
     "start_time": "2020-09-01T23:22:59.467554Z"
    }
   },
   "outputs": [],
   "source": [
    "import math\n",
    "import io"
   ]
  },
  {
   "cell_type": "code",
   "execution_count": 2,
   "metadata": {
    "ExecuteTime": {
     "end_time": "2020-09-01T23:23:05.987954Z",
     "start_time": "2020-09-01T23:22:59.676340Z"
    }
   },
   "outputs": [],
   "source": [
    "import numpy as np\n",
    "import pandas as pd\n",
    "\n",
    "import matplotlib\n",
    "import matplotlib.pyplot as pp\n",
    "\n",
    "%matplotlib inline"
   ]
  },
  {
   "cell_type": "code",
   "execution_count": 3,
   "metadata": {
    "ExecuteTime": {
     "end_time": "2020-09-01T23:23:09.140289Z",
     "start_time": "2020-09-01T23:23:05.991896Z"
    }
   },
   "outputs": [],
   "source": [
    "import scipy.stats\n",
    "import scipy.optimize\n",
    "import scipy.spatial"
   ]
  },
  {
   "cell_type": "markdown",
   "metadata": {},
   "source": [
    "There is in fact a close relationship between hypothesis testing and confidence intervals. If the null hypothesis corresponds to a range of values for a population parameter that are excluded from the confidence interval, then the null hypothesis must be rejected with a very low P value. The lower, the higher the confidence level of he interval.\n",
    "\n",
    "To exemplify this we go back to our example of the election poll and reformulate it as hypothesis testing."
   ]
  },
  {
   "cell_type": "code",
   "execution_count": 5,
   "metadata": {
    "ExecuteTime": {
     "end_time": "2020-09-01T23:23:39.221607Z",
     "start_time": "2020-09-01T23:23:38.701299Z"
    }
   },
   "outputs": [],
   "source": [
    "poll = pd.read_csv('poll.csv')"
   ]
  },
  {
   "cell_type": "code",
   "execution_count": 7,
   "metadata": {
    "ExecuteTime": {
     "end_time": "2020-09-01T23:24:08.643141Z",
     "start_time": "2020-09-01T23:24:08.391581Z"
    }
   },
   "outputs": [
    {
     "data": {
      "text/plain": [
       "Brown    0.511\n",
       "Green    0.489\n",
       "Name: vote, dtype: float64"
      ]
     },
     "execution_count": 7,
     "metadata": {},
     "output_type": "execute_result"
    }
   ],
   "source": [
    "poll.vote.value_counts(normalize=True)"
   ]
  },
  {
   "cell_type": "markdown",
   "metadata": {},
   "source": [
    "To remind you, in the smaller poll Brown had a seeming majority of votes.\n",
    "\n",
    "So here the null hypothesis will be that Green wins or ties the election, so the true Brown fraction would be 0.50 or less.\n",
    "\n",
    "We need to find out whether a Brown proportion of 0.511 is an extreme result if the null hypothesis holds. So we compute the sampling distribution of the proportion, and get a true Brown fraction of 0.50. If it's lower than that the P value will be even lower. So we can work with 0.50.\n",
    "\n",
    "Here's a function to simulate the sample of a thousand. Once again, we use numpy random rand and compare uniformly distributed numbers between zero and one with the Brown fraction. Then we use numpy where and return Brown if the condition holds true or Green otherwise. Finally, we enclose everything in a data frame."
   ]
  },
  {
   "cell_type": "code",
   "execution_count": 9,
   "metadata": {
    "ExecuteTime": {
     "end_time": "2020-09-01T23:28:17.583553Z",
     "start_time": "2020-09-01T23:28:17.573580Z"
    }
   },
   "outputs": [],
   "source": [
    "def sample(brown, n=1000):\n",
    "    return pd.DataFrame({'vote': np.where(np.random.rand(n) < brown, 'Brown', 'Green')})"
   ]
  },
  {
   "cell_type": "markdown",
   "metadata": {},
   "source": [
    "And here's the sampling distribution. We call sample, grab the votes and count them, and then repeat, collect the results in a list comprehension and then close in the data frame."
   ]
  },
  {
   "cell_type": "code",
   "execution_count": 11,
   "metadata": {
    "ExecuteTime": {
     "end_time": "2020-09-01T23:30:53.036119Z",
     "start_time": "2020-09-01T23:30:51.761134Z"
    }
   },
   "outputs": [],
   "source": [
    "dist = pd.DataFrame({'Brown': [sample(0.5, 1000).vote.value_counts(normalize=True)['Brown'] for i in range(1000)]})"
   ]
  },
  {
   "cell_type": "markdown",
   "metadata": {},
   "source": [
    "We histogram the sampling distribution, and we see that indeed 0.511 is not a very extreme value."
   ]
  },
  {
   "cell_type": "code",
   "execution_count": 12,
   "metadata": {
    "ExecuteTime": {
     "end_time": "2020-09-01T23:33:14.228402Z",
     "start_time": "2020-09-01T23:33:13.469831Z"
    }
   },
   "outputs": [
    {
     "data": {
      "text/plain": [
       "<AxesSubplot:>"
      ]
     },
     "execution_count": 12,
     "metadata": {},
     "output_type": "execute_result"
    },
    {
     "data": {
      "image/png": "[encoded data removed]",
      "text/plain": [
       "<Figure size 432x288 with 1 Axes>"
      ]
     },
     "metadata": {
      "needs_background": "light"
     },
     "output_type": "display_data"
    }
   ],
   "source": [
    "dist.Brown.hist(histtype='step', bins=20)"
   ]
  },
  {
   "cell_type": "markdown",
   "metadata": {},
   "source": [
    "If we look for its quantile we see that the corresponding P value is 24%, certainly not enough to reject the null hypothesis that Green ties or wins."
   ]
  },
  {
   "cell_type": "code",
   "execution_count": 15,
   "metadata": {
    "ExecuteTime": {
     "end_time": "2020-09-01T23:34:38.838294Z",
     "start_time": "2020-09-01T23:34:38.819343Z"
    }
   },
   "outputs": [
    {
     "data": {
      "text/plain": [
       "23.150000000000006"
      ]
     },
     "execution_count": 15,
     "metadata": {},
     "output_type": "execute_result"
    }
   ],
   "source": [
    "100 - scipy.stats.percentileofscore(dist.Brown, 0.51)"
   ]
  },
  {
   "cell_type": "markdown",
   "metadata": {},
   "source": [
    "What about the larger sample?\n",
    "\n",
    "Here, it makes sense to set the null hypothesis to Brown winning or tying since Green seems to have the majority. In fact, a nice feature of binary problems, such as this, is that the null hypothesis and its alternative are complementary.\n",
    "\n",
    "So I load the data"
   ]
  },
  {
   "cell_type": "code",
   "execution_count": 16,
   "metadata": {
    "ExecuteTime": {
     "end_time": "2020-09-01T23:36:03.222543Z",
     "start_time": "2020-09-01T23:36:02.710263Z"
    }
   },
   "outputs": [],
   "source": [
    "largepoll = pd.read_csv('poll-larger.csv')"
   ]
  },
  {
   "cell_type": "markdown",
   "metadata": {},
   "source": [
    "look at the counts"
   ]
  },
  {
   "cell_type": "code",
   "execution_count": 17,
   "metadata": {
    "ExecuteTime": {
     "end_time": "2020-09-01T23:36:44.173995Z",
     "start_time": "2020-09-01T23:36:44.151052Z"
    }
   },
   "outputs": [
    {
     "data": {
      "text/plain": [
       "Green    0.5181\n",
       "Brown    0.4819\n",
       "Name: vote, dtype: float64"
      ]
     },
     "execution_count": 17,
     "metadata": {},
     "output_type": "execute_result"
    }
   ],
   "source": [
    "largepoll.vote.value_counts(normalize=True)"
   ]
  },
  {
   "cell_type": "markdown",
   "metadata": {},
   "source": [
    "and again, compute a sampling distribution at the fraction of 0.50, this time for Green, when the sample's at 10,000. This takes longer, so we compute only 1,000 repetitions."
   ]
  },
  {
   "cell_type": "code",
   "execution_count": 19,
   "metadata": {
    "ExecuteTime": {
     "end_time": "2020-09-01T23:39:13.711350Z",
     "start_time": "2020-09-01T23:39:10.893439Z"
    }
   },
   "outputs": [],
   "source": [
    "dist = pd.DataFrame({'Green': [sample(0.50, 10000).vote.value_counts(normalize=True)['Green'] for i in range(1000)]})"
   ]
  },
  {
   "cell_type": "markdown",
   "metadata": {},
   "source": [
    "Let's see a histogram, and let's overlay Brown's value of 0.5181."
   ]
  },
  {
   "cell_type": "code",
   "execution_count": 23,
   "metadata": {
    "ExecuteTime": {
     "end_time": "2020-09-01T23:40:44.466390Z",
     "start_time": "2020-09-01T23:40:44.056327Z"
    }
   },
   "outputs": [
    {
     "data": {
      "text/plain": [
       "<matplotlib.lines.Line2D at 0x24390d4dcd0>"
      ]
     },
     "execution_count": 23,
     "metadata": {},
     "output_type": "execute_result"
    },
    {
     "data": {
      "image/png": "[encoded data removed]",
      "text/plain": [
       "<Figure size 432x288 with 1 Axes>"
      ]
     },
     "metadata": {
      "needs_background": "light"
     },
     "output_type": "display_data"
    }
   ],
   "source": [
    "dist.Green.hist(histtype='step', bins=20)\n",
    "pp.axvline(0.5181, c='C1')"
   ]
  },
  {
   "cell_type": "markdown",
   "metadata": {},
   "source": [
    "Here, the value is so extreme that it's not even included in our finite sampling distribution. We conclude that the P value for rejecting the null hypothesis that Brown wins or ties is one over 1000 or less, which qualifies as very significant.\n",
    "\n",
    "An interesting question is whether one can apply bootstrapping to compute the values. It is all trivial, because bootstrapping can only represent the true distribution, not the distribution under the null hypothesis, so we would need to modify the bootstrap values to be appropriate for the null case, which in some cases is straightforward and not as impossible. Certainly, it requires some thinking and problem specific information. Doing so, is outside the scope of our course."
   ]
  }
 ],
 "metadata": {
  "kernelspec": {
   "display_name": "Python 3",
   "language": "python",
   "name": "python3"
  },
  "language_info": {
   "codemirror_mode": {
    "name": "ipython",
    "version": 3
   },
   "file_extension": ".py",
   "mimetype": "text/x-python",
   "name": "python",
   "nbconvert_exporter": "python",
   "pygments_lexer": "ipython3",
   "version": "3.8.5"
  },
  "toc": {
   "base_numbering": 1,
   "nav_menu": {},
   "number_sections": true,
   "sideBar": true,
   "skip_h1_title": false,
   "title_cell": "Table of Contents",
   "title_sidebar": "Contents",
   "toc_cell": false,
   "toc_position": {},
   "toc_section_display": true,
   "toc_window_display": false
  }
 },
 "nbformat": 4,
 "nbformat_minor": 2
}
