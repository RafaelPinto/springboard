{
 "cells": [
  {
   "cell_type": "markdown",
   "metadata": {},
   "source": [
    "This exercise will require you to pull some data from the Qunadl API. Qaundl is currently the most widely used aggregator of financial market data."
   ]
  },
  {
   "cell_type": "markdown",
   "metadata": {},
   "source": [
    "As a first step, you will need to register a free account on the http://www.quandl.com website."
   ]
  },
  {
   "cell_type": "markdown",
   "metadata": {},
   "source": [
    "After you register, you will be provided with a unique API key, that you should store:"
   ]
  },
  {
   "cell_type": "code",
   "execution_count": 1,
   "metadata": {
    "ExecuteTime": {
     "end_time": "2020-06-26T14:50:13.172132Z",
     "start_time": "2020-06-26T14:50:13.167848Z"
    }
   },
   "outputs": [],
   "source": [
    "import os"
   ]
  },
  {
   "cell_type": "code",
   "execution_count": 2,
   "metadata": {
    "ExecuteTime": {
     "end_time": "2020-06-26T14:50:13.545476Z",
     "start_time": "2020-06-26T14:50:13.538648Z"
    }
   },
   "outputs": [],
   "source": [
    "# Store the API key as a string - according to PEP8, constants are always named in all upper case\n",
    "\n",
    "# Key was set as environment variable\n",
    "API_KEY = os.environ.get('PUBLIC_KEY')"
   ]
  },
  {
   "cell_type": "code",
   "execution_count": 3,
   "metadata": {
    "ExecuteTime": {
     "end_time": "2020-06-26T14:50:14.505419Z",
     "start_time": "2020-06-26T14:50:14.485811Z"
    }
   },
   "outputs": [
    {
     "data": {
      "text/plain": [
       "str"
      ]
     },
     "execution_count": 3,
     "metadata": {},
     "output_type": "execute_result"
    }
   ],
   "source": [
    "type(API_KEY)"
   ]
  },
  {
   "cell_type": "markdown",
   "metadata": {},
   "source": [
    "Qaundl has a large number of data sources, but, unfortunately, most of them require a Premium subscription. Still, there are also a good number of free datasets."
   ]
  },
  {
   "cell_type": "markdown",
   "metadata": {},
   "source": [
    "For this mini project, we will focus on equities data from the Frankfurt Stock Exhange (FSE), which is available for free. We'll try and analyze the stock prices of a company called Carl Zeiss Meditec, which manufactures tools for eye examinations, as well as medical lasers for laser eye surgery: https://www.zeiss.com/meditec/int/home.html. The company is listed under the stock ticker AFX_X."
   ]
  },
  {
   "cell_type": "markdown",
   "metadata": {},
   "source": [
    "You can find the detailed Quandl API instructions here: https://docs.quandl.com/docs/time-series"
   ]
  },
  {
   "cell_type": "markdown",
   "metadata": {},
   "source": [
    "While there is a dedicated Python package for connecting to the Quandl API, we would prefer that you use the *requests* package, which can be easily downloaded using *pip* or *conda*. You can find the documentation for the package here: http://docs.python-requests.org/en/master/ "
   ]
  },
  {
   "cell_type": "markdown",
   "metadata": {},
   "source": [
    "Finally, apart from the *requests* package, you are encouraged to not use any third party Python packages, such as *pandas*, and instead focus on what's available in the Python Standard Library (the *collections* module might come in handy: https://pymotw.com/3/collections/ ).\n",
    "Also, since you won't have access to DataFrames, you are encouraged to us Python's native data structures - preferably dictionaries, though some questions can also be answered using lists.\n",
    "You can read more on these data structures here: https://docs.python.org/3/tutorial/datastructures.html"
   ]
  },
  {
   "cell_type": "markdown",
   "metadata": {},
   "source": [
    "Keep in mind that the JSON responses you will be getting from the API map almost one-to-one to Python's dictionaries. Unfortunately, they can be very nested, so make sure you read up on indexing dictionaries in the documentation provided above."
   ]
  },
  {
   "cell_type": "code",
   "execution_count": 4,
   "metadata": {
    "ExecuteTime": {
     "end_time": "2020-06-26T14:50:18.772308Z",
     "start_time": "2020-06-26T14:50:18.642199Z"
    }
   },
   "outputs": [],
   "source": [
    "# First, import the relevant modules\n",
    "import requests"
   ]
  },
  {
   "cell_type": "code",
   "execution_count": 5,
   "metadata": {
    "ExecuteTime": {
     "end_time": "2020-06-26T14:50:19.684781Z",
     "start_time": "2020-06-26T14:50:19.222365Z"
    }
   },
   "outputs": [],
   "source": [
    "# Now, call the Quandl API and pull out a small sample of the data (only one day) to get a glimpse\n",
    "# into the JSON structure that will be returned\n",
    "\n",
    "url = 'https://www.quandl.com/api/v3/datasets/FSE/AFX_X/data.json?'\n",
    "\n",
    "params= {'api_key': API_KEY,\n",
    "         'start_date': '2020-06-19',\n",
    "         'end_date': '2020-06-19'}\n",
    "\n",
    "res = requests.get(url, params)"
   ]
  },
  {
   "cell_type": "code",
   "execution_count": 6,
   "metadata": {
    "ExecuteTime": {
     "end_time": "2020-06-26T14:50:20.058443Z",
     "start_time": "2020-06-26T14:50:20.046282Z"
    }
   },
   "outputs": [
    {
     "data": {
      "text/plain": [
       "<Response [200]>"
      ]
     },
     "execution_count": 6,
     "metadata": {},
     "output_type": "execute_result"
    }
   ],
   "source": [
    "res"
   ]
  },
  {
   "cell_type": "code",
   "execution_count": 7,
   "metadata": {
    "ExecuteTime": {
     "end_time": "2020-06-26T14:50:20.662161Z",
     "start_time": "2020-06-26T14:50:20.644616Z"
    }
   },
   "outputs": [
    {
     "data": {
      "text/plain": [
       "{'dataset_data': {'limit': None,\n",
       "  'transform': None,\n",
       "  'column_index': None,\n",
       "  'column_names': ['Date',\n",
       "   'Open',\n",
       "   'High',\n",
       "   'Low',\n",
       "   'Close',\n",
       "   'Change',\n",
       "   'Traded Volume',\n",
       "   'Turnover',\n",
       "   'Last Price of the Day',\n",
       "   'Daily Traded Units',\n",
       "   'Daily Turnover'],\n",
       "  'start_date': '2020-06-19',\n",
       "  'end_date': '2020-06-19',\n",
       "  'frequency': 'daily',\n",
       "  'data': [['2020-06-19',\n",
       "    90.55,\n",
       "    91.8,\n",
       "    90.0,\n",
       "    91.25,\n",
       "    None,\n",
       "    174766.0,\n",
       "    15936379.65,\n",
       "    None,\n",
       "    None,\n",
       "    None]],\n",
       "  'collapse': None,\n",
       "  'order': None}}"
      ]
     },
     "execution_count": 7,
     "metadata": {},
     "output_type": "execute_result"
    }
   ],
   "source": [
    "# Inspect the JSON structure of the object you created, and take note of how nested it is,\n",
    "# as well as the overall structure\n",
    "res_jason = res.json()\n",
    "res_jason"
   ]
  },
  {
   "cell_type": "markdown",
   "metadata": {},
   "source": [
    "These are your tasks for this mini project:\n",
    "\n",
    "1. Collect data from the Franfurt Stock Exchange, for the ticker AFX_X, for the whole year 2017 (keep in mind that the date format is YYYY-MM-DD).\n",
    "2. Convert the returned JSON object into a Python dictionary.\n",
    "3. Calculate what the highest and lowest opening prices were for the stock in this period.\n",
    "4. What was the largest change in any one day (based on High and Low price)?\n",
    "5. What was the largest change between any two days (based on Closing Price)?\n",
    "6. What was the average daily trading volume during this year?\n",
    "7. (Optional) What was the median trading volume during this year. (Note: you may need to implement your own function for calculating the median.)"
   ]
  },
  {
   "cell_type": "code",
   "execution_count": 8,
   "metadata": {
    "ExecuteTime": {
     "end_time": "2020-06-26T14:50:22.477658Z",
     "start_time": "2020-06-26T14:50:22.212394Z"
    }
   },
   "outputs": [],
   "source": [
    "# Collect data from the Franfurt Stock Exchange, for the ticker AFX_X, for the whole year 2017 \n",
    "params= {'api_key': API_KEY,\n",
    "         'start_date': '2017-01-01',\n",
    "         'end_date': '2017-12-31'}\n",
    "\n",
    "res = requests.get(url, params)"
   ]
  },
  {
   "cell_type": "code",
   "execution_count": 9,
   "metadata": {
    "ExecuteTime": {
     "end_time": "2020-06-26T14:50:22.716979Z",
     "start_time": "2020-06-26T14:50:22.709770Z"
    }
   },
   "outputs": [
    {
     "data": {
      "text/plain": [
       "True"
      ]
     },
     "execution_count": 9,
     "metadata": {},
     "output_type": "execute_result"
    }
   ],
   "source": [
    "res.ok"
   ]
  },
  {
   "cell_type": "code",
   "execution_count": 10,
   "metadata": {
    "ExecuteTime": {
     "end_time": "2020-06-26T14:50:23.297828Z",
     "start_time": "2020-06-26T14:50:23.275297Z"
    }
   },
   "outputs": [],
   "source": [
    "# Convert the returned JSON object into a Python dictionary.\n",
    "res_json = res.json()"
   ]
  },
  {
   "cell_type": "code",
   "execution_count": 11,
   "metadata": {
    "ExecuteTime": {
     "end_time": "2020-06-26T14:50:23.760754Z",
     "start_time": "2020-06-26T14:50:23.755873Z"
    }
   },
   "outputs": [
    {
     "name": "stdout",
     "output_type": "stream",
     "text": [
      "dict_keys(['dataset_data'])\n"
     ]
    }
   ],
   "source": [
    "print(res_json.keys())"
   ]
  },
  {
   "cell_type": "code",
   "execution_count": 12,
   "metadata": {
    "ExecuteTime": {
     "end_time": "2020-06-26T14:50:24.152492Z",
     "start_time": "2020-06-26T14:50:24.139674Z"
    }
   },
   "outputs": [
    {
     "data": {
      "text/plain": [
       "dict_keys(['limit', 'transform', 'column_index', 'column_names', 'start_date', 'end_date', 'frequency', 'data', 'collapse', 'order'])"
      ]
     },
     "execution_count": 12,
     "metadata": {},
     "output_type": "execute_result"
    }
   ],
   "source": [
    "res_json['dataset_data'].keys()"
   ]
  },
  {
   "cell_type": "code",
   "execution_count": 13,
   "metadata": {
    "ExecuteTime": {
     "end_time": "2020-06-26T14:50:24.767545Z",
     "start_time": "2020-06-26T14:50:24.740344Z"
    }
   },
   "outputs": [
    {
     "data": {
      "text/plain": [
       "[['2017-12-29',\n",
       "  51.76,\n",
       "  51.94,\n",
       "  51.45,\n",
       "  51.76,\n",
       "  None,\n",
       "  34640.0,\n",
       "  1792304.0,\n",
       "  None,\n",
       "  None,\n",
       "  None],\n",
       " ['2017-12-28',\n",
       "  51.65,\n",
       "  51.82,\n",
       "  51.43,\n",
       "  51.6,\n",
       "  None,\n",
       "  40660.0,\n",
       "  2099024.0,\n",
       "  None,\n",
       "  None,\n",
       "  None],\n",
       " ['2017-12-27',\n",
       "  51.45,\n",
       "  51.89,\n",
       "  50.76,\n",
       "  51.82,\n",
       "  None,\n",
       "  57452.0,\n",
       "  2957018.0,\n",
       "  None,\n",
       "  None,\n",
       "  None]]"
      ]
     },
     "execution_count": 13,
     "metadata": {},
     "output_type": "execute_result"
    }
   ],
   "source": [
    "res_json['dataset_data']['data'][0:3]"
   ]
  },
  {
   "cell_type": "markdown",
   "metadata": {},
   "source": [
    "The entries in the data list are [(in order)](https://www.quandl.com/data/FSE-Frankfurt-Stock-Exchange/documentation):\n",
    "- Date\n",
    "- Open\n",
    "- High\n",
    "- Low\n",
    "- Close\n",
    "- Change\n",
    "- Traded Volume\n",
    "- Turnover\n",
    "- Last Price of the Day\n",
    "- Daily Traded Units\n",
    "- Daily Turnover"
   ]
  },
  {
   "cell_type": "code",
   "execution_count": 14,
   "metadata": {
    "ExecuteTime": {
     "end_time": "2020-06-26T14:50:28.901395Z",
     "start_time": "2020-06-26T14:50:28.880706Z"
    }
   },
   "outputs": [],
   "source": [
    "def get_col(name, res_json, dropna=False):\n",
    "    '''\n",
    "    Return the column of data (name) in request result json data (res_json)\n",
    "    '''\n",
    "    \n",
    "    data = res_json['dataset_data']['data']\n",
    "    \n",
    "    columns = {'Date': 0,\n",
    "               'Open': 1,\n",
    "               'High': 2,\n",
    "               'Low': 3,\n",
    "               'Close': 4,\n",
    "               'Change': 5,\n",
    "               'Traded Volume': 6,\n",
    "               'Turnover': 7,\n",
    "               'Last Price of the Day': 8,\n",
    "               'Daily Traded Units': 9,\n",
    "               'Daily Turnover': 10}\n",
    "    try:\n",
    "        pos = columns[name]\n",
    "    except KeyError:\n",
    "        print(f'The name: {name}, is not a valid column name')\n",
    "        \n",
    "    if dropna:\n",
    "        return [x[pos] for x in data if not x[pos] == None]\n",
    "    else:\n",
    "        return [x[pos] for x in data]"
   ]
  },
  {
   "cell_type": "code",
   "execution_count": 15,
   "metadata": {
    "ExecuteTime": {
     "end_time": "2020-06-26T14:50:30.922798Z",
     "start_time": "2020-06-26T14:50:30.914176Z"
    }
   },
   "outputs": [],
   "source": [
    "data_open = get_col('Open', res_json, dropna=True)"
   ]
  },
  {
   "cell_type": "code",
   "execution_count": 16,
   "metadata": {
    "ExecuteTime": {
     "end_time": "2020-06-26T14:50:31.382449Z",
     "start_time": "2020-06-26T14:50:31.374063Z"
    }
   },
   "outputs": [],
   "source": [
    "# Calculate what the highest and lowest opening prices were for the stock in this period.\n",
    "open_max = max(data_open)\n",
    "open_min = min(data_open)"
   ]
  },
  {
   "cell_type": "code",
   "execution_count": 17,
   "metadata": {
    "ExecuteTime": {
     "end_time": "2020-06-26T14:50:31.725881Z",
     "start_time": "2020-06-26T14:50:31.712598Z"
    }
   },
   "outputs": [
    {
     "name": "stdout",
     "output_type": "stream",
     "text": [
      "The open max was: 53.11\n",
      "The open min was: 34.0\n"
     ]
    }
   ],
   "source": [
    "print(f'The open max was: {open_max}')\n",
    "print(f'The open min was: {open_min}')"
   ]
  },
  {
   "cell_type": "code",
   "execution_count": 18,
   "metadata": {
    "ExecuteTime": {
     "end_time": "2020-06-26T14:50:32.280521Z",
     "start_time": "2020-06-26T14:50:32.274272Z"
    }
   },
   "outputs": [],
   "source": [
    "# What was the largest change in any one day (based on High and Low price)?"
   ]
  },
  {
   "cell_type": "code",
   "execution_count": 19,
   "metadata": {
    "ExecuteTime": {
     "end_time": "2020-06-26T14:50:32.947858Z",
     "start_time": "2020-06-26T14:50:32.942960Z"
    }
   },
   "outputs": [],
   "source": [
    "highs = get_col('High', res_json)\n",
    "lows = get_col('Low', res_json)"
   ]
  },
  {
   "cell_type": "code",
   "execution_count": 20,
   "metadata": {
    "ExecuteTime": {
     "end_time": "2020-06-26T14:50:33.919225Z",
     "start_time": "2020-06-26T14:50:33.915651Z"
    }
   },
   "outputs": [],
   "source": [
    "daily_high_minus_low = [a - b for (a, b) in zip(highs, lows)]"
   ]
  },
  {
   "cell_type": "code",
   "execution_count": 21,
   "metadata": {
    "ExecuteTime": {
     "end_time": "2020-06-26T14:50:34.562867Z",
     "start_time": "2020-06-26T14:50:34.559291Z"
    }
   },
   "outputs": [],
   "source": [
    "largest_day_change = max(daily_high_minus_low)"
   ]
  },
  {
   "cell_type": "code",
   "execution_count": 22,
   "metadata": {
    "ExecuteTime": {
     "end_time": "2020-06-26T14:50:35.402168Z",
     "start_time": "2020-06-26T14:50:35.390731Z"
    }
   },
   "outputs": [
    {
     "name": "stdout",
     "output_type": "stream",
     "text": [
      "The largest daily change was: 2.81\n"
     ]
    }
   ],
   "source": [
    "print(f'The largest daily change was: {largest_day_change:.2f}')"
   ]
  },
  {
   "cell_type": "code",
   "execution_count": 23,
   "metadata": {
    "ExecuteTime": {
     "end_time": "2020-06-26T14:50:39.347265Z",
     "start_time": "2020-06-26T14:50:39.340309Z"
    }
   },
   "outputs": [],
   "source": [
    "# What was the largest change between any two days (based on Closing Price)?\n",
    "close = get_col('Close', res_json)"
   ]
  },
  {
   "cell_type": "code",
   "execution_count": 24,
   "metadata": {
    "ExecuteTime": {
     "end_time": "2020-06-26T14:50:39.870557Z",
     "start_time": "2020-06-26T14:50:39.851640Z"
    }
   },
   "outputs": [],
   "source": [
    "cons_day_max_change = max([a - b for (a, b) in zip(close[1:], close[0:-1])])"
   ]
  },
  {
   "cell_type": "code",
   "execution_count": 25,
   "metadata": {
    "ExecuteTime": {
     "end_time": "2020-06-26T14:50:40.301089Z",
     "start_time": "2020-06-26T14:50:40.289564Z"
    }
   },
   "outputs": [
    {
     "name": "stdout",
     "output_type": "stream",
     "text": [
      "The largest consecutive day change at closing was: 2.56\n"
     ]
    }
   ],
   "source": [
    "print(f'The largest consecutive day change at closing was: {cons_day_max_change:.2f}')"
   ]
  },
  {
   "cell_type": "code",
   "execution_count": 26,
   "metadata": {
    "ExecuteTime": {
     "end_time": "2020-06-26T14:50:46.140644Z",
     "start_time": "2020-06-26T14:50:46.135856Z"
    }
   },
   "outputs": [],
   "source": [
    "# What was the average daily trading volume during this year?\n",
    "traded = get_col('Traded Volume', res_json)"
   ]
  },
  {
   "cell_type": "code",
   "execution_count": 27,
   "metadata": {
    "ExecuteTime": {
     "end_time": "2020-06-26T14:50:47.001545Z",
     "start_time": "2020-06-26T14:50:46.993282Z"
    }
   },
   "outputs": [],
   "source": [
    "avg_daily_traded = sum(traded) / len(traded)"
   ]
  },
  {
   "cell_type": "code",
   "execution_count": 28,
   "metadata": {
    "ExecuteTime": {
     "end_time": "2020-06-26T14:50:47.764511Z",
     "start_time": "2020-06-26T14:50:47.749532Z"
    }
   },
   "outputs": [
    {
     "name": "stdout",
     "output_type": "stream",
     "text": [
      "The average daily volume traded was: 89124.34\n"
     ]
    }
   ],
   "source": [
    "print(f'The average daily volume traded was: {avg_daily_traded:.2f}')"
   ]
  },
  {
   "cell_type": "code",
   "execution_count": 29,
   "metadata": {
    "ExecuteTime": {
     "end_time": "2020-06-26T14:50:48.900783Z",
     "start_time": "2020-06-26T14:50:48.863114Z"
    }
   },
   "outputs": [],
   "source": [
    "# (Optional)\n",
    "# What was the median trading volume during this year.\n",
    "# (Note: you may need to implement your own function for calculating the median.)\n",
    "\n",
    "def median(sec):\n",
    "    '''\n",
    "    Return the median value of a sequence\n",
    "    '''\n",
    "    import math\n",
    "    \n",
    "    median_pos = ((len(sec) + 1) / 2) - 1\n",
    "    \n",
    "    if median_pos.is_integer():\n",
    "        return sec[int(median_pos)]\n",
    "    else:\n",
    "        median_pos = math.floor(median_pos)\n",
    "        return (sec[median_pos] + sec[median_pos +1]) / 2"
   ]
  },
  {
   "cell_type": "code",
   "execution_count": 30,
   "metadata": {
    "ExecuteTime": {
     "end_time": "2020-06-26T14:50:53.763314Z",
     "start_time": "2020-06-26T14:50:53.756139Z"
    }
   },
   "outputs": [
    {
     "name": "stdout",
     "output_type": "stream",
     "text": [
      "The median trading volume during 2017 was: 134965.00\n"
     ]
    }
   ],
   "source": [
    "print(f'The median trading volume during 2017 was: {median(traded):.2f}')"
   ]
  },
  {
   "cell_type": "code",
   "execution_count": null,
   "metadata": {},
   "outputs": [],
   "source": []
  }
 ],
 "metadata": {
  "kernelspec": {
   "display_name": "springboard",
   "language": "python",
   "name": "springboard"
  },
  "language_info": {
   "codemirror_mode": {
    "name": "ipython",
    "version": 3
   },
   "file_extension": ".py",
   "mimetype": "text/x-python",
   "name": "python",
   "nbconvert_exporter": "python",
   "pygments_lexer": "ipython3",
   "version": "3.8.2"
  },
  "toc": {
   "base_numbering": 1,
   "nav_menu": {},
   "number_sections": true,
   "sideBar": true,
   "skip_h1_title": false,
   "title_cell": "Table of Contents",
   "title_sidebar": "Contents",
   "toc_cell": false,
   "toc_position": {},
   "toc_section_display": true,
   "toc_window_display": false
  }
 },
 "nbformat": 4,
 "nbformat_minor": 2
}
